{
 "cells": [
  {
   "cell_type": "markdown",
   "metadata": {},
   "source": [
    "# Broyden, Fletcher, Golfarb and Shanno (BFGS) with line search method"
   ]
  },
  {
   "cell_type": "markdown",
   "metadata": {},
   "source": [
    "Loading python libraries"
   ]
  },
  {
   "cell_type": "code",
   "execution_count": 1,
   "metadata": {},
   "outputs": [],
   "source": [
    "# Numerical python library, importing all\n",
    "import numpy as np\n",
    "\n",
    "# Scientific computing python library, importing linalg sections\n",
    "from scipy import linalg\n",
    "\n",
    "# Plotting library\n",
    "from matplotlib import pyplot as mp"
   ]
  },
  {
   "cell_type": "markdown",
   "metadata": {},
   "source": [
    "## Line search with Wolfe conditions\n",
    "The strong conditions given by\n",
    "\\begin{eqnarray}\n",
    "f(x_k + \\alpha_k p_k ) & \\leq & \n",
    "f(x_k) + c_1 \\alpha_k \\left\\langle \\nabla f( x_k )\\ \\middle|\\ p_k \\right\\rangle \\\\\n",
    "\\left| \\left\\langle \\nabla f( x_k + \\alpha_k p_k )\\ \\middle|\\ p_k \\right\\rangle \\right| & \\leq & \n",
    "c_2 \\left| \\nabla \\left\\langle f( x_k )\\ \\middle|\\ p_k \\right\\rangle \\right|\n",
    "\\end{eqnarray}\n",
    "with $0 < c_1 < c_2 < 1$"
   ]
  },
  {
   "cell_type": "code",
   "execution_count": 2,
   "metadata": {},
   "outputs": [],
   "source": [
    "def line_searh_wolfe( x, a, p, f, g, c1, c2, m ) :\n",
    "  alpha_min = 1e-15\n",
    "  alpha = a\n",
    "  alpha_max = 1e9\n",
    "    \n",
    "  fx = f( x )\n",
    "  gx = g( x )\n",
    "  \n",
    "  z = x + alpha * p\n",
    "  fz = f( z )\n",
    "  gz = g( z )\n",
    "  \n",
    "  hx = gx.dot( p )\n",
    "  hz = gz.dot( p ) \n",
    "  \n",
    "  W1 = fx + alpha * c1 * hx\n",
    "  W2 = c2 * hx\n",
    "  i = 0\n",
    "  while ( ( fz > W1 or hz < W2 ) and i < m ) :\n",
    "    if ( fz > W1 ) :\n",
    "      alpha_max = alpha\n",
    "      alpha = 0.5 * ( alpha_min + alpha_max )\n",
    "    elif ( hz < W2 ) :\n",
    "      if ( alpha_max >= 1e9 ) :\n",
    "        alpha = 2 * alpha\n",
    "      else :\n",
    "        alpha_min = alpha\n",
    "        alpha = 0.5 * ( alpha_min + alpha_max )\n",
    "    \n",
    "    z = x + alpha * p\n",
    "    fz = f( z )\n",
    "    gz = g( z )\n",
    "    hz = gz.dot( p ) \n",
    "    W1 = fx + alpha * c1 * hx\n",
    "    i = i + 1\n",
    "    \n",
    "  chk = fz > W1 or hz < W2\n",
    "  \n",
    "  return ( alpha, i, chk )"
   ]
  },
  {
   "cell_type": "markdown",
   "metadata": {},
   "source": [
    "## BFGS algorithm"
   ]
  },
  {
   "cell_type": "code",
   "execution_count": 3,
   "metadata": {},
   "outputs": [],
   "source": [
    "def bfgs_opt( f, g, B, x0, n, m, eps, alpha, c1, c2 ) :\n",
    "  \n",
    "  # Intialization\n",
    "  e = 2 * eps\n",
    "  ev = []\n",
    "  \n",
    "  x = x0\n",
    "  \n",
    "  fx0 = f( x0 )\n",
    "  fx = fx0\n",
    "  \n",
    "  gx0 = g( x0 )  \n",
    "  gx = gx0\n",
    "  \n",
    "  # Hessian inverse approximation\n",
    "  H = B\n",
    "  \n",
    "  k = 0\n",
    "  while ( e > eps and k < n ) :\n",
    "    p = -H.dot( gx )\n",
    "    \n",
    "    # Line search    \n",
    "    ls = line_searh_wolfe( x, alpha, p, f, g, c1, c2, m )\n",
    "    \n",
    "    alpha = ls[0]\n",
    "    s = alpha * p\n",
    "    \n",
    "    # Updating values\n",
    "    x0 = x\n",
    "    x = x + s\n",
    "    \n",
    "    fx0 = fx\n",
    "    fx = f( x )\n",
    "    \n",
    "    gx0 = gx\n",
    "    gx = g( x )\n",
    "    y = gx - gx0\n",
    "    \n",
    "    # BFGS algorithm\n",
    "    rho = y.dot( s )\n",
    "    u = np.identity( x.size ) - np.outer( y, s ) / rho\n",
    "    H = u.T.dot( H.dot( u ) ) + np.outer( s, s ) / rho\n",
    "    e = linalg.norm( y )\n",
    "    ev.append( e )\n",
    "    k = k + 1\n",
    "    \n",
    "  return ( x, fx, gx, p, H, ev, k )"
   ]
  },
  {
   "cell_type": "markdown",
   "metadata": {},
   "source": [
    "## Example with the Rosenbrock function\n",
    "The Rosenbrock function $f : \\mathbb{R}^2 \\longrightarrow \\mathbb{R}$ is defined by:\n",
    "\\begin{equation}\n",
    "f(x,y) = 100 ( y - x^2 )^2 + ( 1 - x )^2\n",
    "\\end{equation}"
   ]
  },
  {
   "cell_type": "code",
   "execution_count": 4,
   "metadata": {},
   "outputs": [],
   "source": [
    "def f( x ) :\n",
    "  f = 100 * ( x[1] - x[0]**2 )**2 + ( 1 - x[0] )**2\n",
    "  return f"
   ]
  },
  {
   "cell_type": "markdown",
   "metadata": {},
   "source": [
    "the gradient of $f$ is given by\n",
    "\\begin{equation}\n",
    "\\nabla f(x,y) \n",
    "= \\left[\n",
    "\\begin{array}{c}\n",
    "400 x^3 - 400 x y + 2x - 2 \\\\\n",
    "200 ( y - x^2 )\n",
    "\\end{array}\n",
    "\\right]\n",
    "\\end{equation}"
   ]
  },
  {
   "cell_type": "code",
   "execution_count": 5,
   "metadata": {},
   "outputs": [],
   "source": [
    "def g( x ) :\n",
    "  gf = np.array( [ 400 * x[0]**3 - 400 * x[0] * x[1] + 2 * x[0] - 2, 200 * ( x[1] - x[0]**2 ) ] )\n",
    "  gf = gf.T\n",
    "  return gf"
   ]
  },
  {
   "cell_type": "markdown",
   "metadata": {},
   "source": [
    "Iteration starting at point $(x_0,y_0) = (1.2, 1.2)$"
   ]
  },
  {
   "cell_type": "code",
   "execution_count": 6,
   "metadata": {},
   "outputs": [
    {
     "name": "stdout",
     "output_type": "stream",
     "text": [
      "Optimal point: [1. 1.]\n",
      "Objective function value: 1.500807872182975e-28\n",
      "Gradient at optimal point: [-4.14779322e-13  1.77635684e-13]\n",
      "Last descent direction: [-8.36788984e-15 -1.56716205e-14]\n",
      "Last Hessian inverse approximation:\n",
      " [[0.24177595 0.49637058]\n",
      " [0.49637058 1.02584875]]\n",
      "Iterations: 127 \n",
      "\n"
     ]
    }
   ],
   "source": [
    "n = 1000\n",
    "m = 200\n",
    "eps = 1e-12\n",
    "c1 = 0.001\n",
    "c2 = 0.01\n",
    "alpha = 0.1\n",
    "x0 = np.array( [ 1.2, 1.2 ] )\n",
    "B = np.identity( 2 )\n",
    "S = bfgs_opt( f, g, B, x0, n, m, eps, alpha, c1, c2 )\n",
    "print( 'Optimal point:', S[0] )\n",
    "print( 'Objective function value:', S[1] )\n",
    "print( 'Gradient at optimal point:', S[2] )\n",
    "print( 'Last descent direction:', S[3] )\n",
    "print( 'Last Hessian inverse approximation:\\n', S[4] )\n",
    "print( 'Iterations:', S[6], '\\n' )"
   ]
  },
  {
   "cell_type": "markdown",
   "metadata": {},
   "source": [
    "Plotting error in logarithmic scale, $\\varepsilon_k = \\|g_{k+1} - g_k\\|, \\forall k \\in \\mathbb{N}$"
   ]
  },
  {
   "cell_type": "code",
   "execution_count": 7,
   "metadata": {},
   "outputs": [
    {
     "data": {
      "text/plain": [
       "[<matplotlib.lines.Line2D at 0x7f32a4ac6040>]"
      ]
     },
     "execution_count": 7,
     "metadata": {},
     "output_type": "execute_result"
    },
    {
     "data": {
      "image/png": "[encoded data removed]",
      "text/plain": [
       "<Figure size 432x288 with 1 Axes>"
      ]
     },
     "metadata": {
      "needs_background": "light"
     },
     "output_type": "display_data"
    }
   ],
   "source": [
    "mp.xlabel( 'Iterations' )\n",
    "mp.ylabel( 'Gradient norm' )\n",
    "mp.title( 'Error by iteration' )\n",
    "mp.yscale( 'log' )\n",
    "mp.plot( S[5] )"
   ]
  },
  {
   "cell_type": "markdown",
   "metadata": {},
   "source": [
    "Iteration starting at point $(x_0,y_0) = (-1.2, 1.1)$"
   ]
  },
  {
   "cell_type": "code",
   "execution_count": 8,
   "metadata": {},
   "outputs": [
    {
     "name": "stdout",
     "output_type": "stream",
     "text": [
      "Optimal point: [1. 1.]\n",
      "Objective function value: 2.2938596009629734e-29\n",
      "Gradient at optimal point: [ 1.06581410e-13 -6.66133815e-14]\n",
      "Last descent direction: [-2.42906745e-14 -4.64307908e-14]\n",
      "Last Hessian inverse approximation:\n",
      " [[0.26542889 0.53396562]\n",
      " [0.53396562 1.07969412]]\n",
      "Iterations: 96 \n",
      "\n"
     ]
    }
   ],
   "source": [
    "n = 1000\n",
    "m = 200\n",
    "eps = 1e-12\n",
    "c1 = 0.001\n",
    "c2 = 0.01\n",
    "alpha = 0.1\n",
    "x0 = np.array( [ -1.2, 1.1 ] )\n",
    "B = np.identity( 2 )\n",
    "S = bfgs_opt( f, g, B, x0, n, m, eps, alpha, c1, c2 )\n",
    "print( 'Optimal point:', S[0] )\n",
    "print( 'Objective function value:', S[1] )\n",
    "print( 'Gradient at optimal point:', S[2] )\n",
    "print( 'Last descent direction:', S[3] )\n",
    "print( 'Last Hessian inverse approximation:\\n', S[4] )\n",
    "print( 'Iterations:', S[6], '\\n' )"
   ]
  },
  {
   "cell_type": "markdown",
   "metadata": {},
   "source": [
    "Plotting error in logarithmic scale, $\\varepsilon_k = \\|g_{k+1} - g_k\\|, \\forall k \\in \\mathbb{N}$"
   ]
  },
  {
   "cell_type": "code",
   "execution_count": 9,
   "metadata": {},
   "outputs": [
    {
     "data": {
      "text/plain": [
       "[<matplotlib.lines.Line2D at 0x7f32a49d0520>]"
      ]
     },
     "execution_count": 9,
     "metadata": {},
     "output_type": "execute_result"
    },
    {
     "data": {
      "image/png": "[encoded data removed]",
      "text/plain": [
       "<Figure size 432x288 with 1 Axes>"
      ]
     },
     "metadata": {
      "needs_background": "light"
     },
     "output_type": "display_data"
    }
   ],
   "source": [
    "mp.xlabel( 'Iterations' )\n",
    "mp.ylabel( 'Gradient norm' )\n",
    "mp.title( 'Error by iteration' )\n",
    "mp.yscale( 'log' )\n",
    "mp.plot( S[5] )"
   ]
  }
 ],
 "metadata": {
  "kernelspec": {
   "display_name": "Python 3",
   "language": "python",
   "name": "python3"
  },
  "language_info": {
   "codemirror_mode": {
    "name": "ipython",
    "version": 3
   },
   "file_extension": ".py",
   "mimetype": "text/x-python",
   "name": "python",
   "nbconvert_exporter": "python",
   "pygments_lexer": "ipython3",
   "version": "3.9.1"
  }
 },
 "nbformat": 4,
 "nbformat_minor": 4
}
