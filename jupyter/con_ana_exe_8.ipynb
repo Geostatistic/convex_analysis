{
 "cells": [
  {
   "cell_type": "markdown",
   "metadata": {},
   "source": [
    "# **Gaus-Newton method**\n",
    "We deal with the minization problem of the objective function with the form\n",
    "\\begin{equation}\n",
    "f(x) = \\frac{1}{2} \\| r(x) \\|^2 = \\frac{1}{2} \\sum_{j=1}^m r_j( x )^2\n",
    "\\end{equation}\n",
    "where the vectorial value function $r(x) = \\left( r_1(x), \\ldots, r_m(x) \\right)^T$ is know as the residual function. Several computations can be simplified by employing the gradient \n",
    "of the residuals, we take $J(x) = \\nabla r(x)$. The first and second order differentials of the function $f$ can be computed by employing the differentials of the residual function.\n",
    "\\begin{equation}\n",
    "\\nabla f(x) = \\nabla r(x) r(x) = J(x)^T r(x)\n",
    "\\end{equation}\n",
    "\n",
    "\\begin{equation}\n",
    "\\nabla^2 f(x) = J(x)^T J(x) + \\sum_{j=1}^m r_j(x) \\nabla^2 r_j(x)\n",
    "\\end{equation}"
   ]
  },
  {
   "cell_type": "code",
   "execution_count": 1,
   "metadata": {},
   "outputs": [],
   "source": [
    "import numpy as np\n",
    "from scipy import sparse as sp\n",
    "from scipy import linalg as la\n",
    "from matplotlib import cm\n",
    "from matplotlib import pyplot as plt"
   ]
  },
  {
   "cell_type": "markdown",
   "metadata": {},
   "source": [
    "---\n",
    "## **Line search with Wolfe conditions**"
   ]
  },
  {
   "cell_type": "code",
   "execution_count": 2,
   "metadata": {},
   "outputs": [],
   "source": [
    "def line_search_wolfe( x, a, p, f, g, c1, c2, m ) :\n",
    "  alpha_min = 0\n",
    "  alpha = a\n",
    "  alpha_max = np.inf\n",
    "\n",
    "  fx = f( x )\n",
    "  gx = g( x )\n",
    "  hx = gx.dot( p )\n",
    "\n",
    "  z = x + alpha * p\n",
    "  fz = f( z )\n",
    "  gz = g( z )\n",
    "  hz = gz.dot( p ) \n",
    "\n",
    "  W1 = fx + alpha * c1 * hx\n",
    "  W2 = c2 * hx\n",
    "  i = 0\n",
    "  while ( ( fz >= W1 or hz <= W2 ) and i < m ) :\n",
    "    if fz > W1:\n",
    "      alpha_max = alpha\n",
    "      alpha = 0.5 * ( alpha_min + alpha_max )\n",
    "\n",
    "    elif hz < W2 :\n",
    "      if alpha_max >= np.inf :\n",
    "        alpha = 2 * alpha\n",
    "      else :\n",
    "        alpha_min = alpha\n",
    "        alpha = 0.5 * ( alpha_min + alpha_max )\n",
    "\n",
    "    z = x + alpha * p\n",
    "    fz = f( z )\n",
    "    gz = g( z )\n",
    "    hz = gz.dot( p )\n",
    "    i = i + 1\n",
    "\n",
    "  chk = fz > W1 or hz < W2\n",
    "\n",
    "  return ( alpha, i, chk )"
   ]
  },
  {
   "cell_type": "markdown",
   "metadata": {},
   "source": [
    "---\n",
    "## **Algorithm for Gauss-Newton**\n",
    "The Gauss-Newton method consist in the algorithm given by the following iterations at each $k \\in \\mathbb{N}$, starting with an initial $x_0 \\in \\mathbb{R}^n$\n",
    "\\begin{eqnarray}\n",
    "  p_k & = & -\\left( J(x_k)^T J(x_k) \\right)^{-1} J( x_k ) r( x_k ) \\\\\n",
    "  \\alpha_k & = & \\text{computed by line search} \\\\\n",
    "  x_{k+1} & = & x_k + \\alpha_k p_k\n",
    "\\end{eqnarray}"
   ]
  },
  {
   "cell_type": "code",
   "execution_count": 3,
   "metadata": {},
   "outputs": [],
   "source": [
    "def gauss_newton( x, f, df, r, J, N, err, c1, c2, lsi ) :\n",
    "\n",
    "  ng = 2 * err\n",
    "  alpha = 1\n",
    "  \n",
    "  F = []\n",
    "  G = []\n",
    "  k = 0\n",
    "  while k < N and ng > err :\n",
    "    Jx = J( x )\n",
    "    rx = r( x ) \n",
    "    p = np.linalg.lstsq( Jx, -rx, rcond = None )[0]\n",
    "    [ alpha, i, chk ] = line_search_wolfe( x, alpha, p, f, df, c1, c2, lsi )\n",
    "    x = x + alpha * p\n",
    "    ng = la.norm( df( x ) )\n",
    "    G.append( ng )\n",
    "    F.append( f( x ) )\n",
    "    k = k + 1\n",
    "\n",
    "  return [ x, F, G, k ]"
   ]
  },
  {
   "cell_type": "markdown",
   "metadata": {},
   "source": [
    "---\n",
    "### **1. Example**\n",
    "Now we consider the particular example with the objective function $f:\\mathbb{R}^n \\longrightarrow \\mathbb{R}$\n",
    "\\begin{equation}\n",
    "f(x) = \\sum_{i=1}^{n+1} r_i(x)^2 = \\|x\\|^2 + \\|x\\|^4\n",
    "\\end{equation}\n",
    "\n",
    "where the *residual function* $r: \\mathbb{R}^n \\longrightarrow \\mathbb{R}^{n+1}$\n",
    "\\begin{equation}\n",
    "r(x)\n",
    "= \\left[\n",
    "\\begin{array}{c}\n",
    "x\\\\\n",
    "\\|x\\|^2\n",
    "\\end{array}\n",
    "\\right]\n",
    "\\end{equation}\n",
    "\n",
    "the gradient associated with $r$\n",
    "\\begin{equation}\n",
    "J(x)\n",
    "= \\left[\n",
    "\\begin{array}{c}\n",
    "I \\\\\n",
    "2 x^T\n",
    "\\end{array}\n",
    "\\right]\n",
    "\\end{equation}\n",
    "\n",
    "Convergence can be expected because for any $z \\in \\mathbb{R}^n$\n",
    "\\begin{equation}\n",
    "\\| J(x) z \\| = \\sqrt{ \\|z\\|^2 + 4 (x^T z)^2} \\geq \\|z\\|\n",
    "\\end{equation}"
   ]
  },
  {
   "cell_type": "code",
   "execution_count": 4,
   "metadata": {},
   "outputs": [],
   "source": [
    "def f( x ) :\n",
    "  return la.norm( x )**2.0 + la.norm( x )**4.0\n",
    "\n",
    "def r( x ) :\n",
    "  return np.append( x, la.norm( x )**2.0 )\n",
    "\n",
    "def J( x ):\n",
    "  return np.append( np.eye( n ), np.reshape( 2 * x, ( 1, n ) ), axis = 0 )\n",
    "\n",
    "def df( x ) :\n",
    "  return J(x).T.dot( r(x) )"
   ]
  },
  {
   "cell_type": "markdown",
   "metadata": {},
   "source": [
    "we apply the Gauss-Newton algorithm to the minimization problem of the previous function"
   ]
  },
  {
   "cell_type": "code",
   "execution_count": 5,
   "metadata": {},
   "outputs": [
    {
     "name": "stdout",
     "output_type": "stream",
     "text": [
      "10\n",
      "[0. 0. 0. 0. 0. 0. 0. 0. 0. 0.]\n",
      "0.0\n",
      "0.0\n"
     ]
    }
   ],
   "source": [
    "n = 10\n",
    "\n",
    "N = 20\n",
    "err = 1e-30\n",
    "\n",
    "c1 = 0.001\n",
    "c2 = 0.5\n",
    "lsi = 10\n",
    "x = np.random.normal( 1, 5, n )\n",
    "\n",
    "[ x, F, G, k ] = gauss_newton( x, f, df, r, J, N, err, c1, c2, lsi )\n",
    "print( k )\n",
    "print( x )\n",
    "print( F[-1] )\n",
    "print( G[-1] )"
   ]
  },
  {
   "cell_type": "code",
   "execution_count": 6,
   "metadata": {},
   "outputs": [
    {
     "data": {
      "text/plain": [
       "[<matplotlib.lines.Line2D at 0x7fdcc4a7b7f0>]"
      ]
     },
     "execution_count": 6,
     "metadata": {},
     "output_type": "execute_result"
    },
    {
     "data": {
      "image/png": "[encoded data removed]",
      "text/plain": [
       "<Figure size 432x288 with 1 Axes>"
      ]
     },
     "metadata": {
      "needs_background": "light"
     },
     "output_type": "display_data"
    }
   ],
   "source": [
    "plt.xlabel( 'Iterations' )\n",
    "plt.ylabel( 'Objective function' )\n",
    "plt.title( 'Value of the objective function' )\n",
    "plt.plot( F )"
   ]
  },
  {
   "cell_type": "code",
   "execution_count": 7,
   "metadata": {},
   "outputs": [
    {
     "data": {
      "text/plain": [
       "[<matplotlib.lines.Line2D at 0x7fdcc495f7c0>]"
      ]
     },
     "execution_count": 7,
     "metadata": {},
     "output_type": "execute_result"
    },
    {
     "data": {
      "image/png": "[encoded data removed]",
      "text/plain": [
       "<Figure size 432x288 with 1 Axes>"
      ]
     },
     "metadata": {
      "needs_background": "light"
     },
     "output_type": "display_data"
    }
   ],
   "source": [
    "plt.xlabel( 'Iterations' )\n",
    "plt.ylabel( 'Gradient norm' )\n",
    "plt.plot( G )"
   ]
  }
 ],
 "metadata": {
  "kernelspec": {
   "display_name": "Python 3",
   "language": "python",
   "name": "python3"
  },
  "language_info": {
   "codemirror_mode": {
    "name": "ipython",
    "version": 3
   },
   "file_extension": ".py",
   "mimetype": "text/x-python",
   "name": "python",
   "nbconvert_exporter": "python",
   "pygments_lexer": "ipython3",
   "version": "3.9.1"
  }
 },
 "nbformat": 4,
 "nbformat_minor": 4
}
