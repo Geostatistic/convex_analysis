{
 "cells": [
  {
   "cell_type": "markdown",
   "metadata": {},
   "source": [
    "---\n",
    "### **2. Example** \n",
    "Shekel's foxholes function\n",
    "\\begin{equation}\n",
    "J( x ) = - \\sum_{i=1}^m \\left( \\sum_{j=1}^n (x_j - a_{ij})^2 + b_j \\right)^{-1}\n",
    "\\end{equation}\n",
    "\n",
    "\\begin{equation}\n",
    "\\nabla J( x ) = - \\sum_{i=1}^m \\left( \\sum_{j=1}^n (x_j - a_{ij})^2 + b_j \\right)^{-2} 2( x_k - a_{ik} )\n",
    "\\end{equation}"
   ]
  },
  {
   "cell_type": "code",
   "execution_count": null,
   "metadata": {},
   "outputs": [],
   "source": [
    "m = 30\n",
    "n = 2\n",
    "A = np.random.normal( 0, 5, ( m, n ) )\n",
    "b = np.abs( np.random.uniform( 1, 2, n ) )"
   ]
  },
  {
   "cell_type": "code",
   "execution_count": null,
   "metadata": {},
   "outputs": [],
   "source": [
    "def J( x ) :\n",
    "  global A, b\n",
    "  m = A.shape[0]\n",
    "  v = np.array( [ np.sum( ( x - A[i,:] )**2.0 + b ) for i in range( 0, m ) ] )\n",
    "  return -np.sum( v**(-1.0) )\n",
    "\n",
    "def dJ( x ) :\n",
    "  global A, b\n",
    "  n = A.shape[1]\n",
    "  m = A.shape[0]\n",
    "  v = np.array( [ np.sum( ( x - A[i,:] )**2.0 + b ) for i in range( 0, m ) ] )\n",
    "  g = np.zeros( n )\n",
    "  for j in range( 0, n ) :\n",
    "    g[j] = 2 * np.sum( [ ( v[i]**(-2.0) ) * ( x[j] - A[i,j] ) for i in range( 0, m ) ] )\n",
    "    \n",
    "  return g\n",
    "\n",
    "def d2J( x ) :\n",
    "  global A, b\n",
    "  n = A.shape[1]\n",
    "  m = A.shape[0]\n",
    "  v = np.array( [ np.sum( ( x - A[i,:] )**2.0 + b ) for i in range( 0, m ) ] )\n",
    "  \n",
    "  h = np.zeros( ( n, n ) )\n",
    "  for k in range( 0, n ) :\n",
    "    for l in range( 0, n ) :\n",
    "      h[ k, l ] = -8 * np.sum( [ ( v[i]**(-3.0) ) * ( x[k] - A[i,k] ) * ( x[l] - A[i,l] ) for i in range( 0, m ) ] )\n",
    "      if k == l :\n",
    "        h[ k, k ] = h[ k, k ] + 2 * np.sum( v**(-2.0) )\n",
    "  \n",
    "  return h"
   ]
  },
  {
   "cell_type": "code",
   "execution_count": null,
   "metadata": {},
   "outputs": [],
   "source": [
    "N = 200\n",
    "M = 5\n",
    "err = 1e-10\n",
    "\n",
    "c1 = 0.00001\n",
    "c2 = 0.01\n",
    "lsi = 10\n",
    "lsi_sel = 2\n",
    "x = np.zeros( n )\n",
    "\n",
    "[ x, g, F, G, k ] = ls_newton_cg( x, J, dJ, d2J, N, M, c1, c2, lsi, lsi_sel, err )\n",
    "print( k )\n",
    "print( x )\n",
    "print( F[-1] )\n",
    "print( G[-1] )"
   ]
  },
  {
   "cell_type": "code",
   "execution_count": null,
   "metadata": {},
   "outputs": [],
   "source": [
    "plt.xlabel( 'Iterations' )\n",
    "plt.ylabel( 'Objective function' )\n",
    "plt.title( 'Value of the objective function' )\n",
    "plt.plot( F )"
   ]
  },
  {
   "cell_type": "code",
   "execution_count": null,
   "metadata": {},
   "outputs": [],
   "source": [
    "plt.xlabel( 'Iterations' )\n",
    "plt.ylabel( 'Gradient norm' )\n",
    "# plt.xscale( 'log' )\n",
    "# plt.yscale( 'log' )\n",
    "plt.plot( G )"
   ]
  }
 ],
 "metadata": {
  "kernelspec": {
   "display_name": "Python 3",
   "language": "python",
   "name": "python3"
  },
  "language_info": {
   "codemirror_mode": {
    "name": "ipython",
    "version": 3
   },
   "file_extension": ".py",
   "mimetype": "text/x-python",
   "name": "python",
   "nbconvert_exporter": "python",
   "pygments_lexer": "ipython3",
   "version": "3.9.1"
  }
 },
 "nbformat": 4,
 "nbformat_minor": 4
}
