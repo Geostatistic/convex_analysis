{
 "cells": [
  {
   "cell_type": "markdown",
   "metadata": {},
   "source": [
    "# **Line search Newton-CG method**"
   ]
  },
  {
   "cell_type": "markdown",
   "metadata": {},
   "source": [
    "Line searh Newton-CG is a type of inexact Newton method, all this method are designed to optimize an objective function $J : \\mathbb{R}^n \\longrightarrow \\mathbb{R}$ of second\n",
    "order $C^2$, where the dimension $n$ is big enough to consider the minimization problem a large-scale problem. \n",
    "\n",
    "The convergence of inexact Newton methods requires an additional property over the gradient of the function $J$ at each iteration $k \\in \\mathbb{N}$ of the algorithm we must satisfy\n",
    "the following bound inequality relating the gradient $\\nabla f_k$, the Hessian $\\nabla^2 f_k$ and the descent direction $p_k$.\n",
    "\\begin{equation}\n",
    "\\left\\| \\nabla^2 f_k p_k + \\nabla f_k \\right\\| \\leq \\eta_k \\left\\| f_k \\right\\|\n",
    "\\end{equation}\n",
    "where the ***forcing sequence*** satisfies $0 < \\eta_k < 1$"
   ]
  },
  {
   "cell_type": "code",
   "execution_count": 1,
   "metadata": {},
   "outputs": [],
   "source": [
    "import numpy as np\n",
    "from scipy import sparse as sp\n",
    "from scipy import linalg as la\n",
    "from matplotlib import cm\n",
    "from matplotlib import pyplot as plt"
   ]
  },
  {
   "cell_type": "markdown",
   "metadata": {},
   "source": [
    "---\n",
    "## **Line search with strong Wolfe conditions**\n",
    "The line-search method is designed to satisfy the strong Wolfe conditions\n",
    "\\begin{eqnarray}\n",
    "f(x_k + \\alpha_k p_k ) & \\leq & \n",
    "f(x_k) + c_1 \\alpha_k \\left\\langle \\nabla f( x_k )\\ \\middle|\\ p_k \\right\\rangle \\\\\n",
    "\\left| \\left\\langle \\nabla f( x_k + \\alpha_k p_k )\\ \\middle|\\ p_k \\right\\rangle \\right| & \\leq & \n",
    "c_2 \\left| \\left\\langle \\nabla f( x_k )\\ \\middle|\\ p_k \\right\\rangle \\right|\n",
    "\\end{eqnarray}\n",
    "with $0 < c_1 < c_2 < 1$"
   ]
  },
  {
   "cell_type": "code",
   "execution_count": 2,
   "metadata": {},
   "outputs": [],
   "source": [
    "def line_search_wolfe( x, a, p, f, g, c1, c2, m ) :\n",
    "  alpha_min = 0\n",
    "  alpha = a\n",
    "  alpha_max = np.inf\n",
    "\n",
    "  fx = f( x )\n",
    "  gx = g( x )\n",
    "  hx = gx.dot( p )\n",
    "\n",
    "  z = x + alpha * p\n",
    "  fz = f( z )\n",
    "  gz = g( z )\n",
    "  hz = gz.dot( p ) \n",
    "\n",
    "  W1 = fx + alpha * c1 * hx\n",
    "  W2 = c2 * hx\n",
    "  i = 0\n",
    "  while ( ( fz > W1 or hz < W2 ) and i < m ) :\n",
    "    if fz > W1:\n",
    "      alpha_max = alpha\n",
    "      alpha = 0.5 * ( alpha_min + alpha_max )\n",
    "\n",
    "    elif hz < W2 :\n",
    "      if alpha_max >= np.inf :\n",
    "        alpha = 2 * alpha\n",
    "      else :\n",
    "        alpha_min = alpha\n",
    "        alpha = 0.5 * ( alpha_min + alpha_max )\n",
    "\n",
    "    z = x + alpha * p\n",
    "    fz = f( z )\n",
    "    gz = g( z )\n",
    "    hz = gz.dot( p )\n",
    "    i = i + 1\n",
    "\n",
    "  chk = fz > W1 or hz < W2\n",
    "\n",
    "  return ( alpha, i, chk )"
   ]
  },
  {
   "cell_type": "markdown",
   "metadata": {},
   "source": [
    "## **Line search with strong Wolfe conditions adapted to satisfy the convergence conditions of the inexact Newton method**\n",
    "A change of line search algortihm to satisfy the condition $\\left\\| \\nabla^2 f_k p_k + \\nabla f_k \\right\\| \\leq \\eta_k \\left\\| f_k \\right\\|$\n",
    "we can adapt the second strong Wolf condition by employing a Taylor approximation of the first order.\n",
    "\\begin{equation}\n",
    "\\nabla f( x_k + \\alpha_k p_k ) \\approx \\nabla f(x_k) + \\alpha_k \\nabla^2 f(x_k) p_k = \\nabla f_k + \\alpha_k \\nabla^2 f_k p_k\n",
    "\\end{equation}\n",
    "\n",
    "With this approximation the second strong Wolfe condition que be changed to become the desired condition to satisfy the convergence of\n",
    "the line search Newton-CG method.\n",
    "\\begin{eqnarray*}\n",
    "\\left| \\nabla f(x_k + \\alpha p_k )^T p_k \\right| \n",
    "& \\leq & c_2 \\left| \\nabla f_k^T p_k \\right| \\\\\n",
    "\\left| \\left( \\alpha_k \\nabla^2 f_k p_k + \\nabla f_k \\right)^T p_k \\right|\n",
    "& \\leq & c_2 \\left| \\nabla f_k^T p_k \\right| \\\\\n",
    "\\left\\|  \\alpha_k \\nabla^2 f_k p_k + \\nabla f_k  \\right\\| \\| p_k \\| | \\cos \\theta_k |\n",
    "& \\leq & c_2 \\left\\| \\nabla f_k \\right\\| \\| p_k \\| | \\cos \\varphi_k | \\\\\n",
    "\\left\\| \\nabla^2 f_k ( \\alpha_k p_k ) + \\nabla f_k  \\right\\| \n",
    "& \\leq & c_2 \\frac{| \\cos \\varphi_k |}{| \\cos \\theta_k |} \\left\\| \\nabla f_k \\right\\|\n",
    "\\end{eqnarray*}\n",
    "\n",
    "the forcing sequence can be defined to be $\\eta_k = c_2 \\frac{| \\cos \\varphi_k |}{| \\cos \\theta_k |}$ with the descent direction \n",
    "$\\alpha_k p_k$. Finally, by considering the previous approximation we can rewrite the strong Wolf conditions in the following \n",
    "way.\n",
    "\\begin{eqnarray}\n",
    "f( x_k + \\alpha_k p_k )\n",
    "& \\leq & f( x_k ) + c_1 \\alpha_k \\left\\langle \\nabla f( x_k )\\ \\middle|\\ p_k \\right\\rangle \\\\\n",
    "\\frac{1}{|\\alpha_k|} \\left| \\left\\langle \\nabla^2 f( x_k ) ( \\alpha_k p_k ) + \\nabla f( x_k )\\ \\middle|\\ \\alpha_k p_k \\right\\rangle \n",
    "\\right| \n",
    "& \\leq & c_2 \\left| \\left\\langle \\nabla f(x_k)\\ \\middle|\\ p_k \\right\\rangle \\right|\n",
    "\\end{eqnarray}\n",
    "with $0 < c_1 < c_2 < 1$"
   ]
  },
  {
   "cell_type": "code",
   "execution_count": 3,
   "metadata": {},
   "outputs": [],
   "source": [
    "def line_search_wolfe_2( x, a, p, f, g, h, c1, c2, m ) :\n",
    "  alpha_min = 0\n",
    "  alpha = a\n",
    "  alpha_max = np.inf\n",
    "\n",
    "  fx = f( x )\n",
    "  gx = g( x )\n",
    "  hx = gx.dot( p )\n",
    "\n",
    "  z = x + alpha * p\n",
    "  fz = f( z )\n",
    "  gz = g( z )\n",
    "  hz = gz.dot( p ) \n",
    "\n",
    "  W1 = fx + alpha * c1 * hx\n",
    "  W2 = c2 * hx\n",
    "  i = 0\n",
    "  while ( ( fz > W1 or hz < W2 ) and i < m ) :\n",
    "    if fz > W1:\n",
    "      alpha_max = alpha\n",
    "      alpha = 0.5 * ( alpha_min + alpha_max )\n",
    "\n",
    "    elif hz < W2 :\n",
    "      if alpha_max >= np.inf :\n",
    "        alpha = 2 * alpha\n",
    "      else :\n",
    "        alpha_min = alpha\n",
    "        alpha = 0.5 * ( alpha_min + alpha_max )\n",
    "\n",
    "    z = x + alpha * p\n",
    "    fz = f( z )\n",
    "    gz = g( z )\n",
    "\n",
    "    q = alpha * p\n",
    "    # Change to satisfy the condition (7.3) de Nocedal y Wright\n",
    "    hz = ( h( z ).dot( q ) + gz ).dot( q ) / np.abs( alpha )\n",
    "    i = i + 1\n",
    "\n",
    "  chk = fz > W1 or hz < W2\n",
    "\n",
    "  return ( alpha, i, chk )"
   ]
  },
  {
   "cell_type": "markdown",
   "metadata": {},
   "source": [
    "---\n",
    "## **Implementation of the line search Newton-CG**\n",
    "The line search Newton-CG algorithm modified to select the line search method"
   ]
  },
  {
   "cell_type": "code",
   "execution_count": 4,
   "metadata": {},
   "outputs": [],
   "source": [
    "def ls_newton_cg( x, J, dJ, d2J, N, M, c1, c2, lsi, lsi_sel, err ) :\n",
    "\n",
    "  F = []\n",
    "  G = []\n",
    "  ng = 2 * err\n",
    "  k = 0\n",
    "\n",
    "  while k < N and ng > err:\n",
    "    alpha = 0\n",
    "    z = 0\n",
    "    g = dJ( x )\n",
    "    ng = la.norm( g )\n",
    "\n",
    "    F.append( J( x ) )\n",
    "    G.append( ng )\n",
    "\n",
    "    r = g\n",
    "    B = d2J( x )\n",
    "    d = -r\n",
    "    e = np.min( [ 0.5, np.sqrt( la.norm( r ) ) ] ) * la.norm( r )\n",
    "\n",
    "    j = 0\n",
    "    while j < M :\n",
    "      kappa = d.T.dot( B.dot( d ) )\n",
    "      if kappa <= 0 :\n",
    "        if j == 0 :\n",
    "          p = -g\n",
    "          break\n",
    "        else :\n",
    "          p = z\n",
    "          break\n",
    "\n",
    "      alpha = r.dot( r ) / kappa\n",
    "      z = z + alpha * d\n",
    "      r0 = r\n",
    "      r = r + alpha * B.dot( d )\n",
    "      if la.norm( r ) < e:\n",
    "        p = z\n",
    "        break\n",
    "      e = np.min( [ 0.5, np.sqrt( la.norm( g ) ) ] ) * la.norm( g )\n",
    "\n",
    "      beta = r.dot( r ) / r0.dot( r0 )\n",
    "      d = -r + beta * d\n",
    "      j = j + 1\n",
    "\n",
    "    # Selection of the line search method\n",
    "    if lsi_sel == 1:\n",
    "      [ alpha, i, chk ] = line_search_wolfe( x, alpha, p, J, dJ, c1, c2, lsi )\n",
    "    elif lsi_sel == 2 :\n",
    "      [ alpha, i, chk ] = line_search_wolfe_2( x, alpha, p, J, dJ, d2J, c1, c2, lsi )\n",
    "    \n",
    "    x = x + alpha * p\n",
    "    k = k + 1\n",
    "    \n",
    "  return [ x, g, F, G, k ]"
   ]
  },
  {
   "cell_type": "markdown",
   "metadata": {},
   "source": [
    "---\n",
    "### **1. Example** \n",
    "We consider the classical regression problem with the objective function given by\n",
    "\\begin{equation}\n",
    "J(x) = \\frac{1}{2} \\| Ax - b \\|^2\n",
    "\\end{equation}\n",
    "\n",
    "the gradient of $J$\n",
    "\\begin{equation}\n",
    "\\nabla J( x ) = A^T( A x - b )\n",
    "\\end{equation}\n",
    "\n",
    "the Hessian of $J$\n",
    "\\begin{equation}\n",
    "\\nabla^2 J(x) = A^T A \n",
    "\\end{equation}"
   ]
  },
  {
   "cell_type": "code",
   "execution_count": 5,
   "metadata": {},
   "outputs": [],
   "source": [
    "m = 1000\n",
    "n = 5\n",
    "A = np.random.normal( 10, 5, ( m, n ) )\n",
    "b = np.random.normal( 0, 5, m )\n",
    "\n",
    "def J( x ) :\n",
    "  global A, b, alpha, D\n",
    "  Jx = 0.5 * la.norm( A.dot( x ) - b )**2\n",
    "  return Jx\n",
    "\n",
    "K = A.T.dot( A )\n",
    "c = A.T.dot( b )\n",
    "\n",
    "def dJ( x ) :\n",
    "  global K, c, alpha, D\n",
    "  g = K.dot( x ) - c   \n",
    "  return g\n",
    "\n",
    "def d2J( x ) :\n",
    "  global K\n",
    "  return K"
   ]
  },
  {
   "cell_type": "code",
   "execution_count": 6,
   "metadata": {},
   "outputs": [
    {
     "name": "stdout",
     "output_type": "stream",
     "text": [
      "5000\n",
      "[ 0.01475282  0.03138545 -0.04109234  0.00196461 -0.0087948 ]\n",
      "11897.394494966846\n",
      "6.445439542548256e-07\n"
     ]
    }
   ],
   "source": [
    "N = 5000\n",
    "M = 5\n",
    "err = 1e-10\n",
    "\n",
    "c1 = 0.00001\n",
    "c2 = 0.01\n",
    "lsi = 10\n",
    "lsi_sel = 2\n",
    "x = np.random.normal( 0, 2, n )\n",
    "\n",
    "[ x, g, F, G, k ] = ls_newton_cg( x, J, dJ, d2J, N, M, c1, c2, lsi, lsi_sel, err )\n",
    "print( k )\n",
    "print( x )\n",
    "print( F[-1] )\n",
    "print( G[-1] )"
   ]
  },
  {
   "cell_type": "code",
   "execution_count": 7,
   "metadata": {},
   "outputs": [
    {
     "data": {
      "text/plain": [
       "[<matplotlib.lines.Line2D at 0x7f09ad106b50>]"
      ]
     },
     "execution_count": 7,
     "metadata": {},
     "output_type": "execute_result"
    },
    {
     "data": {
      "image/png": "[encoded data removed]",
      "text/plain": [
       "<Figure size 432x288 with 1 Axes>"
      ]
     },
     "metadata": {
      "needs_background": "light"
     },
     "output_type": "display_data"
    }
   ],
   "source": [
    "plt.xlabel( 'Iterations' )\n",
    "plt.ylabel( 'Objective function' )\n",
    "plt.title( 'Value of the objective function' )\n",
    "plt.plot( F )"
   ]
  },
  {
   "cell_type": "code",
   "execution_count": 8,
   "metadata": {},
   "outputs": [
    {
     "data": {
      "text/plain": [
       "[<matplotlib.lines.Line2D at 0x7f09acfe8d00>]"
      ]
     },
     "execution_count": 8,
     "metadata": {},
     "output_type": "execute_result"
    },
    {
     "data": {
      "image/png": "[encoded data removed]",
      "text/plain": [
       "<Figure size 432x288 with 1 Axes>"
      ]
     },
     "metadata": {
      "needs_background": "light"
     },
     "output_type": "display_data"
    }
   ],
   "source": [
    "plt.xlabel( 'Iterations' )\n",
    "plt.ylabel( 'Gradient norm' )\n",
    "# plt.xscale( 'log' )\n",
    "# plt.yscale( 'log' )\n",
    "plt.plot( G )"
   ]
  }
 ],
 "metadata": {
  "kernelspec": {
   "display_name": "Python 3",
   "language": "python",
   "name": "python3"
  },
  "language_info": {
   "codemirror_mode": {
    "name": "ipython",
    "version": 3
   },
   "file_extension": ".py",
   "mimetype": "text/x-python",
   "name": "python",
   "nbconvert_exporter": "python",
   "pygments_lexer": "ipython3",
   "version": "3.9.1"
  }
 },
 "nbformat": 4,
 "nbformat_minor": 5
}
