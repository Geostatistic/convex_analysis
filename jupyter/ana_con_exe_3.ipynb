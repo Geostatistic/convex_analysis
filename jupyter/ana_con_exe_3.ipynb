{
 "cells": [
  {
   "cell_type": "markdown",
   "metadata": {},
   "source": [
    "# Trust region method\n",
    "Loading python libraries"
   ]
  },
  {
   "cell_type": "code",
   "execution_count": 1,
   "metadata": {},
   "outputs": [],
   "source": [
    "# Numerical python library, importing all\n",
    "import numpy as np\n",
    "\n",
    "# Scientific computing python library, importing linalg sections\n",
    "from scipy import linalg\n",
    "\n",
    "# Plotting library\n",
    "from matplotlib import pyplot as mp"
   ]
  },
  {
   "cell_type": "markdown",
   "metadata": {},
   "source": [
    "## Dogleg method\n",
    "Implementation of the dogleg method, taking into account the constraint $\\|p_k\\| \\leq \\Delta_k$ for every $k \\in \\mathbb{N}$"
   ]
  },
  {
   "cell_type": "code",
   "execution_count": 2,
   "metadata": {},
   "outputs": [],
   "source": [
    "def dogleg_method( f, g, B, delta ) :\n",
    "  \n",
    "  pu = -( g.T.dot( g ) / ( g.T.dot( B.dot( g ) ) ) ) * g\n",
    "  pb = -linalg.solve( B, g )\n",
    "  npb = linalg.norm( pb ) \n",
    "  \n",
    "  if npb > delta :\n",
    "    tau = delta / npb\n",
    "    p = tau * pb\n",
    "  else :\n",
    "    a = linalg.norm( pb - pu )**2\n",
    "    b = pu.T.dot( pb - pu )\n",
    "    c = linalg.norm( pu )**2 - delta**2\n",
    "    tau = ( 2.0 * a - b + np.sqrt( b**2 - 4.0 * a * c ) ) / ( 2.0 * a )\n",
    "    p = pu + ( tau - 1 ) * ( pb - pu )  \n",
    "    \n",
    "  return ( p, tau )"
   ]
  },
  {
   "cell_type": "markdown",
   "metadata": {},
   "source": [
    "## Trust region of algorithm\n",
    "Algorithm (4.1) for trust region method"
   ]
  },
  {
   "cell_type": "code",
   "execution_count": 3,
   "metadata": {},
   "outputs": [],
   "source": [
    "def trust_region_method( x0, f, g, h, app_meth, delta, eta, eps, ite ) :\n",
    " \n",
    "  # Intialization\n",
    "  x = x0\n",
    "  \n",
    "  fx0 = f( x0 )\n",
    "  fx = fx0\n",
    "  \n",
    "  gx0 = g( x0 )  \n",
    "  gx = gx0\n",
    "  p = gx\n",
    "  \n",
    "  Bx0 = h( x0 )\n",
    "  Bx = Bx0\n",
    "  \n",
    "  mx0 = fx\n",
    "  mx = fx0 + gx.T.dot( p ) + 0.5 * p.T.dot( Bx.dot( p ) )\n",
    "  rho = 1\n",
    "   \n",
    "  e = 2 * eps\n",
    "  ev = []\n",
    "  dk = delta\n",
    "  k = 0\n",
    "  while k < ite and e > eps :\n",
    "    \n",
    "    # Approximation of p\n",
    "    p, tau = app_meth( fx, gx, Bx, dk )\n",
    "    \n",
    "    # Evaluation of rho\n",
    "    mx0 = mx\n",
    "    mx = fx + gx.T.dot( p ) + 0.5 * p.T.dot( Bx.dot( p ) )\n",
    "    \n",
    "    if mx0 > mx :\n",
    "        rho = ( fx0 - f( x + p ) ) / ( mx0 - mx )\n",
    "    else:\n",
    "        rho = ( fx0 - f( x + p ) ) / 1e-10\n",
    "    \n",
    "    # Algorithm for trust region\n",
    "    if rho < 0.25 :\n",
    "      dk = 0.25 * dk\n",
    "    else :\n",
    "      if rho > 0.75 and linalg.norm( p ) == dk :\n",
    "        dk = min( 2 * dk, delta )\n",
    "\n",
    "    if rho > eta :\n",
    "      x0 = x\n",
    "      x = x + p\n",
    "    else :\n",
    "      x0 = x \n",
    "\n",
    "    # Updating values\n",
    "    fx0 = fx\n",
    "    fx = f( x )\n",
    "    \n",
    "    gx0 = gx\n",
    "    gx = g( x )\n",
    "    \n",
    "    Bx0 = Bx\n",
    "    Bx = h( x )\n",
    "        \n",
    "    e = linalg.norm( gx ) \n",
    "    ev.append( e )\n",
    "    k = k + 1\n",
    "    \n",
    "  return ( x, fx, gx, Bx, k, ev )"
   ]
  },
  {
   "cell_type": "markdown",
   "metadata": {},
   "source": [
    "## Example with the Rosenbrock function\n",
    "The Rosenbrock function $f : \\mathbb{R}^2 \\longrightarrow \\mathbb{R}$ is defined by:\n",
    "\\begin{equation}\n",
    "f(x,y) = 100 ( y - x^2 )^2 + ( 1 - x )^2\n",
    "\\end{equation}"
   ]
  },
  {
   "cell_type": "code",
   "execution_count": 4,
   "metadata": {},
   "outputs": [],
   "source": [
    "def f( x ) :\n",
    "  f = 100 * ( x[1] - x[0]**2 )**2 + ( 1 - x[0] )**2\n",
    "  return f"
   ]
  },
  {
   "cell_type": "markdown",
   "metadata": {},
   "source": [
    "the gradient of $f$ is given by\n",
    "\\begin{equation}\n",
    "\\nabla f(x,y) \n",
    "= \\left[\n",
    "\\begin{array}{c}\n",
    "400 x^3 - 400 x y + 2x - 2 \\\\\n",
    "200 ( y - x^2 )\n",
    "\\end{array}\n",
    "\\right]\n",
    "\\end{equation}"
   ]
  },
  {
   "cell_type": "code",
   "execution_count": 5,
   "metadata": {},
   "outputs": [],
   "source": [
    "def g( x ) :\n",
    "  gf = np.array( [ 400 * x[0]**3 - 400 * x[0] * x[1] + 2 * x[0] - 2, 200 * ( x[1] - x[0]**2 ) ] )\n",
    "  gf = gf.T\n",
    "  return gf"
   ]
  },
  {
   "cell_type": "markdown",
   "metadata": {},
   "source": [
    "and the Hessian of $f$\n",
    "\\begin{equation}\n",
    "\\nabla^2 f(x,y) \n",
    "= \\left[\n",
    "\\begin{array}{cc}\n",
    " 1200x^2 - 400y + 2 & -400x \\\\\n",
    " -400x & 200\n",
    "\\end{array}\n",
    "\\right]\n",
    "\\end{equation}"
   ]
  },
  {
   "cell_type": "code",
   "execution_count": 6,
   "metadata": {},
   "outputs": [],
   "source": [
    "def h( x ) :\n",
    "  B = np.zeros( ( 2, 2 ) )\n",
    "  B[ 0, 0 ] = 2.0 - 400.0 * x[1] + 1200.0 * x[0]**2\n",
    "  B[ 0, 1 ] = -400.0 * x[0]\n",
    "  B[ 1, 0 ] = -400.0 * x[0]\n",
    "  B[ 1, 1 ] = 200.0\n",
    "  return B"
   ]
  },
  {
   "cell_type": "markdown",
   "metadata": {},
   "source": [
    "Iteration starting at point $(x_0,y_0) = (1.2, 1.2)$"
   ]
  },
  {
   "cell_type": "code",
   "execution_count": 7,
   "metadata": {},
   "outputs": [
    {
     "name": "stdout",
     "output_type": "stream",
     "text": [
      "Optimal point: [1. 1.]\n",
      "Objective function value: 1.283948653483038e-25\n",
      "Gradient at optimal point: [ 2.30926389e-14 -3.77475828e-13]\n",
      "Last Hessian approximation:\n",
      " [[ 802. -400.]\n",
      " [-400.  200.]]\n",
      "Iterations: 107 \n",
      "\n"
     ]
    }
   ],
   "source": [
    "ite = 1000\n",
    "eps = 1e-12\n",
    "delta = 0.05\n",
    "eta = 1e-20\n",
    "x0 = np.array( [ 1.2, 1.2 ] )\n",
    "S = trust_region_method( x0, f, g, h, dogleg_method, delta, eta, eps, ite )\n",
    "print( 'Optimal point:', S[0] )\n",
    "print( 'Objective function value:', S[1] )\n",
    "print( 'Gradient at optimal point:', S[2] )\n",
    "print( 'Last Hessian approximation:\\n', S[3] )\n",
    "print( 'Iterations:', S[4], '\\n' )"
   ]
  },
  {
   "cell_type": "markdown",
   "metadata": {},
   "source": [
    "Plotting error in logarithmic scale, $\\varepsilon_k = \\|g_k\\|, \\forall k \\in \\mathbb{N}$"
   ]
  },
  {
   "cell_type": "code",
   "execution_count": 8,
   "metadata": {},
   "outputs": [
    {
     "data": {
      "text/plain": [
       "[<matplotlib.lines.Line2D at 0x7f15a518e070>]"
      ]
     },
     "execution_count": 8,
     "metadata": {},
     "output_type": "execute_result"
    },
    {
     "data": {
      "image/png": "[encoded data removed]",
      "text/plain": [
       "<Figure size 432x288 with 1 Axes>"
      ]
     },
     "metadata": {
      "needs_background": "light"
     },
     "output_type": "display_data"
    }
   ],
   "source": [
    "mp.xlabel( 'Iterations' )\n",
    "mp.ylabel( 'Gradient norm' )\n",
    "mp.title( 'Error by iteration' )\n",
    "mp.yscale( 'log' )\n",
    "mp.plot( S[5] )"
   ]
  },
  {
   "cell_type": "markdown",
   "metadata": {},
   "source": [
    "Iteration starting at point $(x_0,y_0) = (-1.2, 1.1)$"
   ]
  },
  {
   "cell_type": "code",
   "execution_count": 9,
   "metadata": {},
   "outputs": [
    {
     "name": "stdout",
     "output_type": "stream",
     "text": [
      "Optimal point: [1. 1.]\n",
      "Objective function value: 5.667886717922448e-26\n",
      "Gradient at optimal point: [3.05533376e-13 8.88178420e-14]\n",
      "Last Hessian approximation:\n",
      " [[ 802. -400.]\n",
      " [-400.  200.]]\n",
      "Iterations: 102 \n",
      "\n"
     ]
    }
   ],
   "source": [
    "ite = 1000\n",
    "eps = 1e-12\n",
    "delta = 0.3\n",
    "eta = 1e-20\n",
    "x0 = np.array( [ -1.2, 1.1 ] )\n",
    "S = trust_region_method( x0, f, g, h, dogleg_method, delta, eta, eps, ite )\n",
    "print( 'Optimal point:', S[0] )\n",
    "print( 'Objective function value:', S[1] )\n",
    "print( 'Gradient at optimal point:', S[2] )\n",
    "print( 'Last Hessian approximation:\\n', S[3] )\n",
    "print( 'Iterations:', S[4], '\\n' )"
   ]
  },
  {
   "cell_type": "markdown",
   "metadata": {},
   "source": [
    "Plotting error in logarithmic scale, $\\varepsilon_k = \\|g_k\\|, \\forall k \\in \\mathbb{N}$"
   ]
  },
  {
   "cell_type": "code",
   "execution_count": 10,
   "metadata": {},
   "outputs": [
    {
     "data": {
      "text/plain": [
       "[<matplotlib.lines.Line2D at 0x7f15a4f88160>]"
      ]
     },
     "execution_count": 10,
     "metadata": {},
     "output_type": "execute_result"
    },
    {
     "data": {
      "image/png": "[encoded data removed]",
      "text/plain": [
       "<Figure size 432x288 with 1 Axes>"
      ]
     },
     "metadata": {
      "needs_background": "light"
     },
     "output_type": "display_data"
    }
   ],
   "source": [
    "mp.xlabel( 'Iterations' )\n",
    "mp.ylabel( 'Gradient norm' )\n",
    "mp.title( 'Error by iteration' )\n",
    "mp.yscale( 'log' )\n",
    "mp.plot( S[5] )"
   ]
  }
 ],
 "metadata": {
  "kernelspec": {
   "display_name": "Python 3",
   "language": "python",
   "name": "python3"
  },
  "language_info": {
   "codemirror_mode": {
    "name": "ipython",
    "version": 3
   },
   "file_extension": ".py",
   "mimetype": "text/x-python",
   "name": "python",
   "nbconvert_exporter": "python",
   "pygments_lexer": "ipython3",
   "version": "3.9.1"
  }
 },
 "nbformat": 4,
 "nbformat_minor": 4
}
