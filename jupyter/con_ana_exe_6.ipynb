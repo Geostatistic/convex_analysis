{
 "cells": [
  {
   "cell_type": "markdown",
   "id": "vocational-accused",
   "metadata": {},
   "source": [
    "# Convex analysis and non-smooth optimization\n",
    "\\begin{equation}\n",
    "x^{k+1} = prox_{\\tau_k J}( x^k ) = \\underset{x \\in \\mathbb{R}^n}{\\arg\\min} \\frac{1}{2} \\| x - x^k \\|^2 + \\tau_k J( x )\n",
    "\\end{equation}"
   ]
  },
  {
   "cell_type": "code",
   "execution_count": 1100,
   "id": "continental-screening",
   "metadata": {},
   "outputs": [],
   "source": [
    "import numpy as np\n",
    "from scipy import sparse, linalg\n",
    "from matplotlib import cm\n",
    "from matplotlib import pyplot as plt"
   ]
  },
  {
   "cell_type": "markdown",
   "id": "awful-syndicate",
   "metadata": {},
   "source": [
    "## Problem definition\n",
    "We consider the minimization problem without restrictions, for the objective function\n",
    "\\begin{equation}\n",
    "J(x) = \\frac{1}{2} \\| Ax - b \\|^2 + \\alpha \\|D x \\|_1\n",
    "\\end{equation}"
   ]
  },
  {
   "cell_type": "code",
   "execution_count": 1105,
   "id": "backed-relations",
   "metadata": {},
   "outputs": [],
   "source": [
    "A = np.random.normal( 0, 5, ( 1000, 2 ) )\n",
    "D = np.random.normal( 0, 3, ( 1000, 2 ) )\n",
    "b = np.random.normal( 0, 2, 1000 )\n",
    "# A = np.eye( 2 )\n",
    "# D = np.eye( 2 )\n",
    "# b = np.random.normal( 0, 2, 2 )\n",
    "alpha = 0.0001\n",
    "\n",
    "def J( x ) :\n",
    "    global A, b, alpha, D\n",
    "    Jx = 0.5 * linalg.norm( A.dot( x ) - b )**2 + alpha * linalg.norm( D.dot( x ), 1 )\n",
    "    return Jx"
   ]
  },
  {
   "cell_type": "markdown",
   "id": "returning-heart",
   "metadata": {},
   "source": [
    "## Subdifferentials\n",
    "The objective function $J$ can be decomposed like the sum $J = F + \\alpha G$ with $F(x) = \\frac{1}{2} \\| Ax - b \\|^2$ and $G(x) = \\|Dx\\|_1$.\n",
    "\n",
    "The respective subdifferentials for function $F$ and $G$ are\n",
    "\\begin{equation}\n",
    "\\partial F(x) = \\{ \\nabla F(x)\\} = \\{ A^T ( Ax - b ) \\}\n",
    "\\end{equation}\n",
    "\n",
    "\\begin{equation}\n",
    "\\partial G(x) = \\partial \\left( \\| \\cdot \\|_1 \\circ D \\right)(x) = D^T \\partial \\| D x \\|_1 \n",
    "\\end{equation}\n",
    "\n",
    "A well know result for the subdiferential of the $l_1$-norm\n",
    "\\begin{equation}\n",
    "\\partial \\| x \\|_1\n",
    "= \\sum\\limits_{i=1}^n sign( x_i ) \\mathbf{1}_{\\mathbb{R} \\setminus \\{0\\}}( x_i )  e_i + \\mathbf{1}_{\\{0\\}}( x_i ) [-e_i, e_i ]\n",
    "\\end{equation}"
   ]
  },
  {
   "cell_type": "code",
   "execution_count": 1107,
   "id": "associate-control",
   "metadata": {},
   "outputs": [],
   "source": [
    "K = A.T.dot( A )\n",
    "c = A.T.dot( b )\n",
    "\n",
    "def dJ( x ) :\n",
    "    global K, c, alpha, D\n",
    "    g = K.dot( x ) - c + alpha * D.T.dot( np.sign( D.dot( x ) ) )   \n",
    "    return g"
   ]
  },
  {
   "cell_type": "markdown",
   "id": "integrated-trial",
   "metadata": {},
   "source": [
    "## Proximal operators\n",
    "The function $G$ for each coordinate\n",
    "\\begin{equation}\n",
    "G(x) = \\|Dx\\|_1 = \\sum\\limits_{i=1}^n | d_i^T x |\n",
    "\\end{equation}\n",
    "\n",
    "Approximation of the proximal map of $\\tau_k J$\n",
    "\\begin{equation}\n",
    "prox_{\\tau_k J} \n",
    "\\approx prox_{\\tau_k F} \\circ prox_{\\tau_k G} \n",
    "\\approx prox_{\\tau_k F} \\circ prox_{\\tau_k | d_1^T \\cdot |} \\cdots \\circ prox_{\\tau_k | d_n^T \\cdot |}\n",
    "\\end{equation}\n",
    "\n",
    "where\n",
    "\\begin{equation}\n",
    "prox_{\\tau | d^T \\cdot |}(x)\n",
    "= x + \\frac{\\tau}{\\|\\tau d\\|^2} \\left( \\left( | \\tau d^T | - \\tau^2 \\|d\\|^2 \\right)_+ sign\\left( \\tau d^T x \\right) - \\tau d^T x \\right) d\n",
    "\\end{equation}\n",
    "\\begin{equation}\n",
    "prox_{\\tau F}(x) = \\left( I + \\tau A^T A \\right)^{-1}\\left( x - \\tau A^T b \\right)\n",
    "\\end{equation}\n",
    "We define some proximal maps"
   ]
  },
  {
   "cell_type": "code",
   "execution_count": 1108,
   "id": "passing-metadata",
   "metadata": {},
   "outputs": [],
   "source": [
    "def prox_abs_1( x, tau ) :\n",
    "  y = 0\n",
    "  if x >= tau :\n",
    "      y = x - tau\n",
    "  elif x <= -tau:\n",
    "      y = x + tau\n",
    "\n",
    "  return y\n",
    "\n",
    "def prox_norm_1_scalar( d, x, tau ) :\n",
    "  nd = linalg.norm( d )**2\n",
    "  p = x + ( tau / ( ( tau * nd )**2 ) ) * ( prox_abs_1( tau * d.dot( x ), ( tau * nd )**2 ) - tau * d.dot( x ) ) * d\n",
    "  return p\n"
   ]
  },
  {
   "cell_type": "markdown",
   "id": "impaired-swimming",
   "metadata": {},
   "source": [
    "--- \n",
    "## Subgradient descent \n",
    "The algorithm is mainly given by the iteration\n",
    "\\begin{eqnarray}\n",
    "x^{k+1} & = & x^k - \\tau_k \\partial J( x^k ) \\\\\n",
    "& = & x^k - \\tau_k \\partial F( x^k ) - \\tau_k \\partial G( x^k ) \\\\\n",
    "& = & x^k - \\tau_k A^T ( Ax^k - b ) - \\tau_k D^T \\partial \\| D x^k \\|_1\n",
    "\\end{eqnarray}"
   ]
  },
  {
   "cell_type": "code",
   "execution_count": 1109,
   "id": "sonic-winning",
   "metadata": {},
   "outputs": [],
   "source": [
    "def subgradient_descent( x, tau, J, dJ, e, N ) :\n",
    "  n = x.size\n",
    "  k = 0\n",
    "  ng = 2 * e \n",
    "  \n",
    "  G = []\n",
    "  F = []\n",
    "  while k < N and ng > e:\n",
    "    g = dJ( x )\n",
    "    x = x - tau * g\n",
    "    \n",
    "    ng = linalg.norm( g )\n",
    "    G.append( ng )\n",
    "    F.append( J( x ) )\n",
    "    k = k + 1\n",
    "\n",
    "  return [ x, g, ng, F, G, k ]"
   ]
  },
  {
   "cell_type": "code",
   "execution_count": 1110,
   "id": "qualified-subscription",
   "metadata": {},
   "outputs": [
    {
     "name": "stdout",
     "output_type": "stream",
     "text": [
      "136\n",
      "[9.26786425e-13 2.95999336e-13]\n",
      "9.729073364274196e-13\n",
      "[0.01501542 0.00717238]\n",
      "2036.3867369727386\n"
     ]
    }
   ],
   "source": [
    "e = 1e-12\n",
    "N = 1000\n",
    "tau = 0.00001\n",
    "x = np.random.normal( 0, 1, 2 )\n",
    "\n",
    "x, g, ng, F, G, k = subgradient_descent( x, tau, J, dJ, e, N )\n",
    "\n",
    "print( k )\n",
    "print( g )\n",
    "print( ng )\n",
    "\n",
    "print( x )\n",
    "# print( b )\n",
    "print( F[ k - 1 ] )"
   ]
  },
  {
   "cell_type": "code",
   "execution_count": 1111,
   "id": "herbal-breakfast",
   "metadata": {},
   "outputs": [
    {
     "data": {
      "text/plain": [
       "[<matplotlib.lines.Line2D at 0x7f4d5de0f880>]"
      ]
     },
     "execution_count": 1111,
     "metadata": {},
     "output_type": "execute_result"
    },
    {
     "data": {
      "image/png": "[encoded data removed]",
      "text/plain": [
       "<Figure size 432x288 with 1 Axes>"
      ]
     },
     "metadata": {
      "needs_background": "light"
     },
     "output_type": "display_data"
    }
   ],
   "source": [
    "plt.xlabel( 'Iterations' )\n",
    "plt.ylabel( 'Objective function' )\n",
    "plt.title( 'Value of the objective function' )\n",
    "plt.plot( F )"
   ]
  },
  {
   "cell_type": "code",
   "execution_count": 1112,
   "id": "electronic-month",
   "metadata": {},
   "outputs": [
    {
     "data": {
      "text/plain": [
       "[<matplotlib.lines.Line2D at 0x7f4d5dde3cd0>]"
      ]
     },
     "execution_count": 1112,
     "metadata": {},
     "output_type": "execute_result"
    },
    {
     "data": {
      "image/png": "[encoded data removed]",
      "text/plain": [
       "<Figure size 432x288 with 1 Axes>"
      ]
     },
     "metadata": {
      "needs_background": "light"
     },
     "output_type": "display_data"
    }
   ],
   "source": [
    "plt.xlabel( 'Iterations' )\n",
    "plt.ylabel( 'Gradient norm' )\n",
    "plt.title( 'Error by iteration' )\n",
    "# plt.xscale( 'log' )\n",
    "# plt.yscale( 'log' )\n",
    "plt.ylim( (0, np.max( G ) * 1.1 ) )\n",
    "plt.plot( G )"
   ]
  },
  {
   "cell_type": "markdown",
   "id": "stupid-indicator",
   "metadata": {},
   "source": [
    "---\n",
    "## Proximal point method\n",
    "The algorithm is mainly given by the iteration\n",
    "\\begin{eqnarray}\n",
    "x^{k+1} \n",
    "& = & prox_{\\tau_k J}( x^k ) \\\\\n",
    "& \\approx & prox_{\\tau_k F} \\circ prox_{\\tau_k | d_1^T \\cdot |} \\cdots \\circ prox_{\\tau_k | d_n^T \\cdot |} ( x^k )\n",
    "\\end{eqnarray}"
   ]
  },
  {
   "cell_type": "code",
   "execution_count": 1113,
   "id": "packed-runner",
   "metadata": {},
   "outputs": [],
   "source": [
    "def proximal_point_method( x, tau, J, dJ, e, N ) :\n",
    "  n = x.size\n",
    "  k = 0\n",
    "  ng = 2 * e \n",
    "  \n",
    "  G = []\n",
    "  F = []\n",
    "  while k < N and ng > e:\n",
    "    x = np.linalg.solve( np.identity( n ) + tau * K, x - tau * c )\n",
    "    for i in range( 0, n ) :\n",
    "      x = prox_norm_1_scalar( D[i,], x, tau * alpha )\n",
    "    \n",
    "    g = dJ( -x )\n",
    "    ng = linalg.norm( g )\n",
    "    G.append( ng )\n",
    "    F.append( J( -x ) )\n",
    "    k = k + 1\n",
    "  \n",
    "  x = -x\n",
    "  return [ x, g, ng, F, G, k ]"
   ]
  },
  {
   "cell_type": "code",
   "execution_count": 1127,
   "id": "loved-utilization",
   "metadata": {},
   "outputs": [
    {
     "name": "stdout",
     "output_type": "stream",
     "text": [
      "100\n",
      "[0.20794844 0.07943057]\n",
      "0.22260226813859466\n",
      "[0.01502397 0.00717555]\n",
      "2036.386737986988\n"
     ]
    }
   ],
   "source": [
    "e = 1e-12\n",
    "N = 100\n",
    "tau = 0.001\n",
    "x = np.random.normal( 0, 1, 2 )\n",
    "\n",
    "x, g, ng, F, G, k = proximal_point_method( x, tau, J, dJ, e, N )\n",
    "\n",
    "print( k )\n",
    "print( g )\n",
    "print( ng )\n",
    "\n",
    "print( x )\n",
    "# print( b )\n",
    "print( F[ k - 1 ] )"
   ]
  },
  {
   "cell_type": "code",
   "execution_count": 1128,
   "id": "fossil-facing",
   "metadata": {},
   "outputs": [
    {
     "data": {
      "text/plain": [
       "[<matplotlib.lines.Line2D at 0x7f4d5db14a00>]"
      ]
     },
     "execution_count": 1128,
     "metadata": {},
     "output_type": "execute_result"
    },
    {
     "data": {
      "image/png": "[encoded data removed]",
      "text/plain": [
       "<Figure size 432x288 with 1 Axes>"
      ]
     },
     "metadata": {
      "needs_background": "light"
     },
     "output_type": "display_data"
    }
   ],
   "source": [
    "plt.xlabel( 'Iterations' )\n",
    "plt.ylabel( 'Objective function' )\n",
    "plt.title( 'Value of the objective function' )\n",
    "plt.plot( F )"
   ]
  },
  {
   "cell_type": "code",
   "execution_count": 1129,
   "id": "residential-madness",
   "metadata": {},
   "outputs": [
    {
     "data": {
      "text/plain": [
       "[<matplotlib.lines.Line2D at 0x7f4d5dae96a0>]"
      ]
     },
     "execution_count": 1129,
     "metadata": {},
     "output_type": "execute_result"
    },
    {
     "data": {
      "image/png": "[encoded data removed]",
      "text/plain": [
       "<Figure size 432x288 with 1 Axes>"
      ]
     },
     "metadata": {
      "needs_background": "light"
     },
     "output_type": "display_data"
    }
   ],
   "source": [
    "plt.xlabel( 'Iterations' )\n",
    "plt.ylabel( 'Gradient norm' )\n",
    "plt.title( 'Error by iteration' )\n",
    "# plt.xscale( 'log' )\n",
    "# plt.yscale( 'log' )\n",
    "plt.ylim( (0, np.max( G ) * 1.1 ) )\n",
    "plt.plot( G )"
   ]
  },
  {
   "cell_type": "markdown",
   "id": "substantial-greeting",
   "metadata": {},
   "source": [
    "---\n",
    "## Forward-Backward splitting\n",
    "The algorithm is mainly given by the iteration\n",
    "\\begin{eqnarray}\n",
    "x^{k+1} & = & prox_{\\tau_k G}\\left( x^k - \\tau_k \\nabla F( x^k ) \\right) \\\\\n",
    "& = & prox_{\\tau_k G}\\left( x^k - \\tau_k A^T( Ax^k - b ) \\right) \\\\\n",
    "& \\approx & prox_{\\tau_k | d_1^T \\cdot |} \\cdots \\circ prox_{\\tau_k | d_n^T \\cdot |} \\left( x^k - \\tau_k A^T( Ax^k - b ) \\right) \n",
    "\\end{eqnarray}"
   ]
  },
  {
   "cell_type": "code",
   "execution_count": 1130,
   "id": "hydraulic-paris",
   "metadata": {},
   "outputs": [],
   "source": [
    "def forward_backward_split( x, tau, J, dJ, e, N ) :\n",
    "  n = x.size\n",
    "  k = 0\n",
    "  ng = 2 * e \n",
    "  \n",
    "  G = []\n",
    "  F = []\n",
    "  while k < N and ng > e:\n",
    "    \n",
    "    p = A.T.dot( A.dot( x ) - b )\n",
    "    x = x - tau * p\n",
    "    for i in range( 0, n ) :\n",
    "      x = prox_norm_1_scalar( D[i,], x, tau * alpha )\n",
    "    \n",
    "    g = dJ( x )\n",
    "    ng = linalg.norm( g )\n",
    "    G.append( ng )\n",
    "    F.append( J( x ) )\n",
    "    k = k + 1\n",
    "    \n",
    "  return [ x, g, ng, F, G, k ]"
   ]
  },
  {
   "cell_type": "code",
   "execution_count": 1131,
   "id": "relative-windsor",
   "metadata": {},
   "outputs": [
    {
     "name": "stdout",
     "output_type": "stream",
     "text": [
      "100\n",
      "[0.21063134 0.10324463]\n",
      "0.23457411316560423\n",
      "[0.01502408 0.00717649]\n",
      "2036.3867380966244\n"
     ]
    }
   ],
   "source": [
    "e = 1e-10\n",
    "N = 100\n",
    "tau = 0.00001\n",
    "x = np.random.normal( 0, 1, 2 )\n",
    "\n",
    "x, g, ng, F, G, k = forward_backward_split( x, tau, J, dJ, e, N )\n",
    "\n",
    "print( k )\n",
    "print( g )\n",
    "print( ng )\n",
    "\n",
    "print( x )\n",
    "# print( b )\n",
    "print( F[ k - 1 ] )"
   ]
  },
  {
   "cell_type": "code",
   "execution_count": 1132,
   "id": "enabling-packet",
   "metadata": {},
   "outputs": [
    {
     "data": {
      "text/plain": [
       "[<matplotlib.lines.Line2D at 0x7f4d5da41820>]"
      ]
     },
     "execution_count": 1132,
     "metadata": {},
     "output_type": "execute_result"
    },
    {
     "data": {
      "image/png": "[encoded data removed]",
      "text/plain": [
       "<Figure size 432x288 with 1 Axes>"
      ]
     },
     "metadata": {
      "needs_background": "light"
     },
     "output_type": "display_data"
    }
   ],
   "source": [
    "plt.xlabel( 'Iterations' )\n",
    "plt.ylabel( 'Objective function' )\n",
    "plt.title( 'Value of the objective function' )\n",
    "plt.plot( F )"
   ]
  },
  {
   "cell_type": "code",
   "execution_count": 1133,
   "id": "measured-florence",
   "metadata": {},
   "outputs": [
    {
     "data": {
      "text/plain": [
       "[<matplotlib.lines.Line2D at 0x7f4d5da20310>]"
      ]
     },
     "execution_count": 1133,
     "metadata": {},
     "output_type": "execute_result"
    },
    {
     "data": {
      "image/png": "[encoded data removed]",
      "text/plain": [
       "<Figure size 432x288 with 1 Axes>"
      ]
     },
     "metadata": {
      "needs_background": "light"
     },
     "output_type": "display_data"
    }
   ],
   "source": [
    "plt.xlabel( 'Iterations' )\n",
    "plt.ylabel( 'Gradient norm' )\n",
    "plt.title( 'Error by iteration' )\n",
    "# plt.xscale( 'log' )\n",
    "# plt.yscale( 'log' )\n",
    "plt.ylim( (0, np.max( G ) * 1.1 ) )\n",
    "plt.plot( G )"
   ]
  }
 ],
 "metadata": {
  "kernelspec": {
   "display_name": "Python 3",
   "language": "python",
   "name": "python3"
  },
  "language_info": {
   "codemirror_mode": {
    "name": "ipython",
    "version": 3
   },
   "file_extension": ".py",
   "mimetype": "text/x-python",
   "name": "python",
   "nbconvert_exporter": "python",
   "pygments_lexer": "ipython3",
   "version": "3.9.1"
  }
 },
 "nbformat": 4,
 "nbformat_minor": 5
}
