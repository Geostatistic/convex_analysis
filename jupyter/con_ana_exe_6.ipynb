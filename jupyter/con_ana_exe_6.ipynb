{
 "cells": [
  {
   "cell_type": "markdown",
   "id": "three-arrival",
   "metadata": {},
   "source": [
    "# Proximal point method\n",
    "\\begin{equation}\n",
    "x^{k+1} = prox_{\\tau_k J}( x^k ) = \\underset{x \\in \\mathbb{R}^n}{\\arg\\min} \\frac{1}{2} \\| x - x^k \\|^2 + \\tau_k J( x )\n",
    "\\end{equation}"
   ]
  },
  {
   "cell_type": "markdown",
   "id": "tender-moses",
   "metadata": {},
   "source": [
    "We consider the following objective\n",
    "\\begin{equation}\n",
    "J(x) = \\frac{1}{2} \\| Ax - b \\|^2 + \\alpha \\|D x \\|_1\n",
    "\\end{equation}\n",
    "\n",
    "the respective subdifferentials $F(x) = \\frac{1}{2} \\| Ax - b \\|^2$ and $G(x) = \\|Dx\\|_1$\n",
    "\\begin{equation}\n",
    "\\partial F(x) = \\{ \\nabla F(x)\\} = \\{ A^T ( Ax - b ) \\}\n",
    "\\end{equation}\n",
    "\n",
    "\\begin{equation}\n",
    "\\partial G(x) = \\partial \\left( \\| \\cdot \\|_1 \\circ D \\right)(x) = D^T \\partial \\| D x \\|_1 \n",
    "\\end{equation}\n",
    "\n",
    "where for any $x \\in \\mathbb{R}^n$\n",
    "\\begin{equation}\n",
    "\\partial \\| x \\|_1\n",
    "= \\sum\\limits_{i=1}^n sign( x_i ) \\mathbf{1}_{\\mathbb{R} \\setminus \\{0\\}}( x_i )  e_i + \\mathbf{1}_{\\{0\\}}( x_i ) [-e_i, e_i ]\n",
    "\\end{equation}\n",
    "\n",
    "for this problem in particular the proximal point method takes the form\n",
    "\\begin{eqnarray}\n",
    "x^{k+1} \n",
    "& = & prox_{\\tau_k J}( x^k ) \\\\\n",
    "& = & \\underset{x \\in \\mathbb{R}^n}{\\arg\\min} \\frac{1}{2} \\| x - x^k \\|^2 + \\tau_k J( x ) \\\\\n",
    "& = & \\underset{x \\in \\mathbb{R}^n}{\\arg\\min} \\frac{1}{2} \\| x - x^k \\|^2 + \\frac{1}{2} \\tau_k \\| Ax - b \\|^2 + \\tau_k \\alpha \\|D x \\|_1\n",
    "\\end{eqnarray}"
   ]
  },
  {
   "cell_type": "code",
   "execution_count": 141,
   "id": "auburn-wheel",
   "metadata": {},
   "outputs": [],
   "source": [
    "import numpy as np\n",
    "from scipy import sparse, linalg\n",
    "from matplotlib import cm\n",
    "from matplotlib import pyplot as plt"
   ]
  },
  {
   "cell_type": "code",
   "execution_count": 143,
   "id": "demanding-destination",
   "metadata": {},
   "outputs": [],
   "source": [
    "A = np.random.rand( 1000, 2 )\n",
    "D = np.random.rand( 1000, 2 )\n",
    "b = np.random.rand( 1000 )"
   ]
  },
  {
   "cell_type": "markdown",
   "id": "sound-waters",
   "metadata": {},
   "source": [
    "\\begin{equation}\n",
    "prox_{\\tau G}(x) = \n",
    "\\end{equation}"
   ]
  },
  {
   "cell_type": "code",
   "execution_count": 227,
   "id": "latin-finder",
   "metadata": {},
   "outputs": [],
   "source": [
    "def prox_norm_1( x, tau ) :\n",
    "    n = x.size\n",
    "    y = np.zeros( n )\n",
    "    for i in range( 0, n ):\n",
    "        if x[i] >= tau :\n",
    "            y[i] = x[i] - tau\n",
    "        elif x[i] <= -tau:\n",
    "            y[i] = x[i] + tau\n",
    "            \n",
    "    return y\n",
    "\n",
    "def prox_abs_1( x, tau ) :\n",
    "    y = 0\n",
    "    if x >= tau :\n",
    "        y = x - tau\n",
    "    elif x <= -tau:\n",
    "        y = x + tau\n",
    "            \n",
    "    return y\n",
    "\n",
    "def prox_norm_2( x, tau ) :\n",
    "    n = x.size\n",
    "    y = np.zeros( n )\n",
    "    nx = linalg.norm( x )\n",
    "    if nx >= tau or nx != 0 :\n",
    "        y = ( 1 - tau / nx ) * x\n",
    "\n",
    "    return y\n",
    "\n",
    "def prox_norm_1_scalar( d, x, tau ) :\n",
    "    nd = linalg.norm( d )**2\n",
    "    p = x + ( prox_abs_1( d.dot( x ), tau * nd ) - d.dot( x ) ) * ( 1 / ( tau * nd ) ) * d\n",
    "    return p\n",
    "        "
   ]
  },
  {
   "cell_type": "code",
   "execution_count": 286,
   "id": "fluid-cylinder",
   "metadata": {},
   "outputs": [
    {
     "name": "stdout",
     "output_type": "stream",
     "text": [
      "10000\n",
      "[-228.55243595 -228.22415722]\n",
      "[ 0.0602483  -0.08485869]\n"
     ]
    }
   ],
   "source": [
    "m = A.shape[0]\n",
    "n = A.shape[1]\n",
    "\n",
    "K = A.T.dot( A )\n",
    "c = A.T.dot( b )\n",
    "\n",
    "e = 1e-12\n",
    "N = 10000\n",
    "k = 0\n",
    "\n",
    "alpha = 0.5\n",
    "tau = 0.000000001\n",
    "# x = np.random.rand( n )\n",
    "x = np.ones( n )\n",
    "ng = 2 * e \n",
    "\n",
    "G = []\n",
    "F = []\n",
    "while k < N and ng > e:\n",
    "    # gradient descent\n",
    "#     g = A.T.dot( A.dot( x ) - b ) + alpha * D.T.dot( np.sign( D.dot( x ) ) )   \n",
    "#     x = x - tau * g\n",
    "\n",
    "    # proximal point\n",
    "#     for i in range( 0, n ) :\n",
    "#         x = prox_norm_1_scalar( D[i,], x, tau * alpha )\n",
    "#     x = np.linalg.solve( np.identity( n ) + tau * K, x - tau * c )\n",
    "    \n",
    "    # forward-backward splitting\n",
    "    g = A.T.dot( A.dot( x ) - b )\n",
    "    for i in range( 0, n ) :\n",
    "        x = prox_norm_1_scalar( D[i,], x - tau * g, tau )\n",
    "    \n",
    "    \n",
    "#     ng = linalg.norm( g )\n",
    "#     G.append( ng )\n",
    "    F.append( 0.5 * linalg.norm( A.dot( x ) - b )**2 + alpha * linalg.norm( D.dot( x ), 1 ) )\n",
    "    k = k + 1\n",
    "\n",
    "print( k )\n",
    "print( g )\n",
    "print( x )\n",
    "# print( ng )\n"
   ]
  },
  {
   "cell_type": "code",
   "execution_count": 284,
   "id": "varying-essex",
   "metadata": {},
   "outputs": [
    {
     "data": {
      "text/plain": [
       "[<matplotlib.lines.Line2D at 0x7efc8adf7940>]"
      ]
     },
     "execution_count": 284,
     "metadata": {},
     "output_type": "execute_result"
    },
    {
     "data": {
      "image/png": "[encoded data removed]",
      "text/plain": [
       "<Figure size 432x288 with 1 Axes>"
      ]
     },
     "metadata": {
      "needs_background": "light"
     },
     "output_type": "display_data"
    }
   ],
   "source": [
    "plt.xlabel( 'Iterations' )\n",
    "plt.ylabel( 'Objective function' )\n",
    "plt.title( 'Value of the objective function' )\n",
    "# plt.xscale( 'log' )\n",
    "# plt.yscale( 'log' )\n",
    "plt.plot( F )"
   ]
  },
  {
   "cell_type": "code",
   "execution_count": 200,
   "id": "biblical-field",
   "metadata": {},
   "outputs": [
    {
     "data": {
      "text/plain": [
       "[<matplotlib.lines.Line2D at 0x7efc8b4238b0>]"
      ]
     },
     "execution_count": 200,
     "metadata": {},
     "output_type": "execute_result"
    },
    {
     "data": {
      "image/png": "[encoded data removed]",
      "text/plain": [
       "<Figure size 432x288 with 1 Axes>"
      ]
     },
     "metadata": {
      "needs_background": "light"
     },
     "output_type": "display_data"
    }
   ],
   "source": [
    "plt.xlabel( 'Iterations' )\n",
    "plt.ylabel( 'Gradient norm' )\n",
    "plt.title( 'Error by iteration' )\n",
    "# plt.xscale( 'log' )\n",
    "# plt.yscale( 'log' )\n",
    "plt.plot( G )"
   ]
  },
  {
   "cell_type": "code",
   "execution_count": null,
   "id": "sunset-palace",
   "metadata": {},
   "outputs": [],
   "source": []
  }
 ],
 "metadata": {
  "kernelspec": {
   "display_name": "Python 3",
   "language": "python",
   "name": "python3"
  },
  "language_info": {
   "codemirror_mode": {
    "name": "ipython",
    "version": 3
   },
   "file_extension": ".py",
   "mimetype": "text/x-python",
   "name": "python",
   "nbconvert_exporter": "python",
   "pygments_lexer": "ipython3",
   "version": "3.9.1"
  }
 },
 "nbformat": 4,
 "nbformat_minor": 5
}
