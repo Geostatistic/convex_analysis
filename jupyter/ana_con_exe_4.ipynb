{
 "cells": [
  {
   "cell_type": "markdown",
   "metadata": {},
   "source": [
    "# Conjugate gradient methods\n",
    "Loading python libraries"
   ]
  },
  {
   "cell_type": "code",
   "execution_count": 85,
   "metadata": {},
   "outputs": [],
   "source": [
    "# Numerical python library, importing all\n",
    "import numpy as np\n",
    "\n",
    "# Scientific computing python library, importing linalg sections\n",
    "from scipy import linalg\n",
    "\n",
    "# Plotting library\n",
    "from matplotlib import pyplot as mp"
   ]
  },
  {
   "cell_type": "markdown",
   "metadata": {},
   "source": [
    "## Linear conjugate gradient\n",
    "The conjugate gradient method is associated to the quadratic optimization problem\n",
    "\\begin{equation}\n",
    "\\underset{x \\in \\mathbb{R}^n}{\\min} \\varphi(x)\n",
    "\\end{equation}\n",
    "where $\\varphi$ is the quadratic function\n",
    "\\begin{equation}\n",
    "\\varphi( x ) = \\frac{1}{2} \\left\\langle x\\ \\middle|\\ A x \\right\\rangle -\n",
    "\\left\\langle b\\ \\middle|\\ x \\right\\rangle\n",
    "\\end{equation}\n",
    "and\n",
    "\\begin{equation}\n",
    "\\nabla \\varphi( x ) = Ax - b\n",
    "\\end{equation}\n",
    "the algorithm is the following"
   ]
  },
  {
   "cell_type": "code",
   "execution_count": 86,
   "metadata": {},
   "outputs": [],
   "source": [
    "def conj_grad_method( A, b, x, eps = 1e-5, ite = 1000 ) :\n",
    "    u = np.copy( x )\n",
    "    p = b - A.dot( u )\n",
    "    r = np.copy( p )\n",
    "    \n",
    "    k = 0\n",
    "    e = 2 * eps\n",
    "    while ( e > eps and k < ite ) :\n",
    "        u0 = np.copy( u )\n",
    "        \n",
    "        g = np.dot( p, A.dot( p ) )\n",
    "        \n",
    "        alpha = np.dot( r, p ) / g\n",
    "        u = u + alpha * p\n",
    "        \n",
    "        r = b - np.dot( A, u )\n",
    "        beta = np.dot( r, A.dot( p ) ) / g\n",
    "        p = r - beta * p\n",
    "        \n",
    "        e = linalg.norm( u - u0 )\n",
    "        k = k + 1\n",
    "    return ( u, e, k )"
   ]
  },
  {
   "cell_type": "markdown",
   "metadata": {},
   "source": [
    "## Line search with Wolfe conditions\n",
    "The strong conditions given by\n",
    "\\begin{eqnarray}\n",
    "f(x_k + \\alpha_k p_k ) & \\leq & \n",
    "f(x_k) + c_1 \\alpha_k \\left\\langle \\nabla f( x_k )\\ \\middle|\\ p_k \\right\\rangle \\\\\n",
    "\\left| \\left\\langle \\nabla f( x_k + \\alpha_k p_k )\\ \\middle|\\ p_k \\right\\rangle \\right| & \\leq & \n",
    "-c_2 \\nabla \\left\\langle f( x_k )\\ \\middle|\\ p_k \\right\\rangle\n",
    "\\end{eqnarray}\n",
    "with $0 < c_1 < c_2 < \\frac{1}{2}$"
   ]
  },
  {
   "cell_type": "code",
   "execution_count": 87,
   "metadata": {},
   "outputs": [],
   "source": [
    "def line_searh_wolfe( x, a, p, f, g, c1, c2, m ) :\n",
    "  alpha_min = 1e-15\n",
    "  alpha = a\n",
    "  alpha_max = 1e9\n",
    "    \n",
    "  fx = f( x )\n",
    "  gx = g( x )\n",
    "  \n",
    "  z = x + alpha * p\n",
    "  fz = f( z )\n",
    "  gz = g( z )\n",
    "  \n",
    "  hx = gx.dot( p )\n",
    "  hz = gz.dot( p ) \n",
    "  \n",
    "  W1 = fx + alpha * c1 * hx\n",
    "  W2 = c2 * hx\n",
    "  i = 0\n",
    "  while ( ( fz > W1 or hz < W2 ) and i < m ) :\n",
    "    if ( fz > W1 ) :\n",
    "      alpha_max = alpha\n",
    "      alpha = 0.5 * ( alpha_min + alpha_max )\n",
    "    elif ( hz < W2 ) :\n",
    "      if ( alpha_max >= 1e9 ) :\n",
    "        alpha = 2 * alpha\n",
    "      else :\n",
    "        alpha_min = alpha\n",
    "        alpha = 0.5 * ( alpha_min + alpha_max )\n",
    "    \n",
    "    z = x + alpha * p\n",
    "    fz = f( z )\n",
    "    gz = g( z )\n",
    "    hz = gz.dot( p ) \n",
    "    W1 = fx + alpha * c1 * hx\n",
    "    i = i + 1\n",
    "    \n",
    "  chk = fz > W1 or hz < W2\n",
    "  \n",
    "  return ( alpha, i, chk )"
   ]
  },
  {
   "cell_type": "markdown",
   "metadata": {},
   "source": [
    "## Non-linear conjugate gradient \n",
    "Definition of type non-linear conjugate gradient method, using line search to satisfy Wolfe conditions\n",
    "1. Fletcher-Reeves\n",
    "2. Polak-Ribière\n",
    "3. Polak-Ribière plus\n",
    "4. Hestenes-Stiefel\n",
    "5. Mix Fletcher-Reeves and Polak-Ribière"
   ]
  },
  {
   "cell_type": "code",
   "execution_count": 88,
   "metadata": {},
   "outputs": [],
   "source": [
    "def non_lin_conj_grad_method( f, g, x0, t, eps, iter, alpha, c1, c2, m ):\n",
    "    \n",
    "    # Initialization\n",
    "    x = x0\n",
    "    gx0 = g(x0 )\n",
    "    gx = gx0\n",
    "    px = -gx0\n",
    "    \n",
    "    e = 2 * eps\n",
    "    ev = []\n",
    "    k = 0\n",
    "    while k < iter and e > eps : \n",
    "        # compute alpha with line search to satisfy Wolfe conditions\n",
    "        alpha, i, chk = line_searh_wolfe( x, alpha, px, f, g, c1, c2, m )\n",
    "        \n",
    "        x0 = x\n",
    "        x = x + alpha * px\n",
    "\n",
    "        gx0 = gx\n",
    "        gx = g( x )\n",
    "\n",
    "        beta = 0.0\n",
    "        if t == 'fr' :\n",
    "            # Fletcher-Reeves beta coefficient\n",
    "            beta = gx.T.dot( gx ) / gx0.T.dot( gx0 )\n",
    "            \n",
    "        elif t == 'pr' :\n",
    "            # Polak-Ribière beta coefficient\n",
    "            beta = gx.T.dot( gx - gx0 ) / gx0.T.dot( gx0 )\n",
    "            \n",
    "        elif t == 'prp' :\n",
    "            # Polak-Ribière plus beta coefficient\n",
    "            beta = gx.T.dot( gx - gx0 ) / gx0.T.dot( gx0 )\n",
    "            beta = np.max( beta, 0 )\n",
    "            \n",
    "        elif t == 'hs' :\n",
    "            # Hestenes-Stiefel\n",
    "            beta = gx.T.dot( gx - gx0 ) / px.T.dot( gx - gx0 )\n",
    "            \n",
    "        elif t == 'frpr' :\n",
    "            # Mix between Fletcher-Reeves and Polak-Ribière\n",
    "            beta_fr = gx.T.dot( gx ) / gx0.T.dot( gx0 )\n",
    "            beta_pr = gx.T.dot( gx - gx0 ) / gx0.T.dot( gx0 )\n",
    "            if beta_pr < -beta_fr :\n",
    "                beta = -beta_fr\n",
    "            elif np.abs( beta_pr ) <= beta_fr :\n",
    "                beta = beta_pr\n",
    "            elif beta_pr > beta_fr :\n",
    "                beta = beta_fr\n",
    "        \n",
    "        elif t == 'tv1' :\n",
    "            # Theoretical variant 1 (5.49, Nocedal)\n",
    "            beta = gx.T.dot( gx ) / px.T.dot( gx - gx0 )\n",
    "            \n",
    "        elif t == 'tv2' :\n",
    "            # Theoretical variant 2 (5.50, Nocedal)\n",
    "            y = gx - gx0\n",
    "            beta = gx.T.dot( y - 2 * ( y.T.dot( y ) / y.T.dot( px ) ) * px ) / y.T.dot( px )\n",
    "        \n",
    "        px = -gx + beta * px\n",
    "        \n",
    "        e = linalg.norm( gx )\n",
    "        ev.append( e )\n",
    "        k = k + 1\n",
    "    \n",
    "    fx = f( x )\n",
    "    \n",
    "    return ( x, fx, gx, px, k, ev )"
   ]
  },
  {
   "cell_type": "markdown",
   "metadata": {},
   "source": [
    "## Example with the Rosenbrock function\n",
    "The Rosenbrock function $f : \\mathbb{R}^2 \\longrightarrow \\mathbb{R}$ is defined by:\n",
    "\\begin{equation}\n",
    "f(x,y) = 100 ( y - x^2 )^2 + ( 1 - x )^2\n",
    "\\end{equation}"
   ]
  },
  {
   "cell_type": "code",
   "execution_count": 89,
   "metadata": {},
   "outputs": [],
   "source": [
    "def f( x ) :\n",
    "  f = 100 * ( x[1] - x[0]**2 )**2 + ( 1 - x[0] )**2\n",
    "  return f"
   ]
  },
  {
   "cell_type": "markdown",
   "metadata": {},
   "source": [
    "the gradient of $f$ is given by\n",
    "\\begin{equation}\n",
    "\\nabla f(x,y) \n",
    "= \\left[\n",
    "\\begin{array}{c}\n",
    "400 x^3 - 400 x y + 2x - 2 \\\\\n",
    "200 ( y - x^2 )\n",
    "\\end{array}\n",
    "\\right]\n",
    "\\end{equation}"
   ]
  },
  {
   "cell_type": "code",
   "execution_count": 90,
   "metadata": {},
   "outputs": [],
   "source": [
    "def g( x ) :\n",
    "  gf = np.array( [ 400 * x[0]**3 - 400 * x[0] * x[1] + 2 * x[0] - 2, 200 * ( x[1] - x[0]**2 ) ] )\n",
    "  gf = gf.T\n",
    "  return gf"
   ]
  },
  {
   "cell_type": "markdown",
   "metadata": {},
   "source": [
    "### Using Fletcher-Reeves"
   ]
  },
  {
   "cell_type": "code",
   "execution_count": 91,
   "metadata": {},
   "outputs": [
    {
     "name": "stdout",
     "output_type": "stream",
     "text": [
      "Optimal point: [1. 1.]\n",
      "Objective function value: 2.222677230218421e-27\n",
      "Gradient at optimal point: [ 2.48689958e-13 -1.99840144e-13]\n",
      "Last descent direction: [-2.33439320e-13  1.55677185e-13]\n",
      "Iterations: 236 \n",
      "\n"
     ]
    }
   ],
   "source": [
    "iter = 1000\n",
    "m = 5\n",
    "eps = 1e-12\n",
    "c1 = 0.001\n",
    "c2 = 0.01\n",
    "alpha = 0.1\n",
    "x0 = np.array( [ 1.2, 1.2 ] )\n",
    "t = 'fr'\n",
    "S = non_lin_conj_grad_method( f, g, x0, t, eps, iter, alpha, c1, c2, m )\n",
    "print( 'Optimal point:', S[0] )\n",
    "print( 'Objective function value:', S[1] )\n",
    "print( 'Gradient at optimal point:', S[2] )\n",
    "print( 'Last descent direction:', S[3] )\n",
    "print( 'Iterations:', S[4], '\\n' )"
   ]
  },
  {
   "cell_type": "markdown",
   "metadata": {},
   "source": [
    "Plotting error in logarithmic scale, $\\varepsilon_k = \\|g_k\\|, \\forall k \\in \\mathbb{N}$"
   ]
  },
  {
   "cell_type": "code",
   "execution_count": 92,
   "metadata": {},
   "outputs": [
    {
     "data": {
      "text/plain": [
       "[<matplotlib.lines.Line2D at 0x7fa58da93730>]"
      ]
     },
     "execution_count": 92,
     "metadata": {},
     "output_type": "execute_result"
    },
    {
     "data": {
      "image/png": "[encoded data removed]",
      "text/plain": [
       "<Figure size 432x288 with 1 Axes>"
      ]
     },
     "metadata": {
      "needs_background": "light"
     },
     "output_type": "display_data"
    }
   ],
   "source": [
    "mp.xlabel( 'Iterations' )\n",
    "mp.ylabel( 'Gradient norm' )\n",
    "mp.title( 'Error by iteration' )\n",
    "mp.yscale( 'log' )\n",
    "mp.plot( S[5] )"
   ]
  },
  {
   "cell_type": "markdown",
   "metadata": {},
   "source": [
    "### Using Polak-Ribière"
   ]
  },
  {
   "cell_type": "code",
   "execution_count": 93,
   "metadata": {},
   "outputs": [
    {
     "name": "stdout",
     "output_type": "stream",
     "text": [
      "Optimal point: [1. 1.]\n",
      "Objective function value: 5.091801320362173e-27\n",
      "Gradient at optimal point: [ 7.16315895e-13 -4.21884749e-13]\n",
      "Last descent direction: [3.21756703e-13 3.16865345e-13]\n",
      "Iterations: 289 \n",
      "\n"
     ]
    }
   ],
   "source": [
    "iter = 1000\n",
    "m = 5\n",
    "eps = 1e-12\n",
    "c1 = 0.001\n",
    "c2 = 0.01\n",
    "alpha = 0.1\n",
    "x0 = np.array( [ 1.2, 1.2 ] )\n",
    "t = 'pr'\n",
    "S = non_lin_conj_grad_method( f, g, x0, t, eps, iter, alpha, c1, c2, m )\n",
    "print( 'Optimal point:', S[0] )\n",
    "print( 'Objective function value:', S[1] )\n",
    "print( 'Gradient at optimal point:', S[2] )\n",
    "print( 'Last descent direction:', S[3] )\n",
    "print( 'Iterations:', S[4], '\\n' )"
   ]
  },
  {
   "cell_type": "markdown",
   "metadata": {},
   "source": [
    "Plotting error in logarithmic scale, $\\varepsilon_k = \\|g_k\\|, \\forall k \\in \\mathbb{N}$"
   ]
  },
  {
   "cell_type": "code",
   "execution_count": 94,
   "metadata": {},
   "outputs": [
    {
     "data": {
      "text/plain": [
       "[<matplotlib.lines.Line2D at 0x7fa58d9d89d0>]"
      ]
     },
     "execution_count": 94,
     "metadata": {},
     "output_type": "execute_result"
    },
    {
     "data": {
      "image/png": "[encoded data removed]",
      "text/plain": [
       "<Figure size 432x288 with 1 Axes>"
      ]
     },
     "metadata": {
      "needs_background": "light"
     },
     "output_type": "display_data"
    }
   ],
   "source": [
    "mp.xlabel( 'Iterations' )\n",
    "mp.ylabel( 'Gradient norm' )\n",
    "mp.title( 'Error by iteration' )\n",
    "mp.yscale( 'log' )\n",
    "mp.plot( S[5] )"
   ]
  },
  {
   "cell_type": "markdown",
   "metadata": {},
   "source": [
    "### Using Hestenes-Stiefel"
   ]
  },
  {
   "cell_type": "code",
   "execution_count": 95,
   "metadata": {},
   "outputs": [
    {
     "name": "stdout",
     "output_type": "stream",
     "text": [
      "Optimal point: [1. 1.]\n",
      "Objective function value: 2.821051522877166e-25\n",
      "Gradient at optimal point: [-6.07291994e-13 -2.22044605e-13]\n",
      "Last descent direction: [-4.51510584e-12 -9.38316082e-12]\n",
      "Iterations: 55 \n",
      "\n"
     ]
    }
   ],
   "source": [
    "iter = 1000\n",
    "m = 5\n",
    "eps = 1e-12\n",
    "c1 = 0.001\n",
    "c2 = 0.01\n",
    "alpha = 0.1\n",
    "x0 = np.array( [ 1.2, 1.2 ] )\n",
    "t = 'hs'\n",
    "S = non_lin_conj_grad_method( f, g, x0, t, eps, iter, alpha, c1, c2, m )\n",
    "print( 'Optimal point:', S[0] )\n",
    "print( 'Objective function value:', S[1] )\n",
    "print( 'Gradient at optimal point:', S[2] )\n",
    "print( 'Last descent direction:', S[3] )\n",
    "print( 'Iterations:', S[4], '\\n' )"
   ]
  },
  {
   "cell_type": "code",
   "execution_count": 96,
   "metadata": {},
   "outputs": [
    {
     "data": {
      "text/plain": [
       "[<matplotlib.lines.Line2D at 0x7fa58d97b3d0>]"
      ]
     },
     "execution_count": 96,
     "metadata": {},
     "output_type": "execute_result"
    },
    {
     "data": {
      "image/png": "[encoded data removed]",
      "text/plain": [
       "<Figure size 432x288 with 1 Axes>"
      ]
     },
     "metadata": {
      "needs_background": "light"
     },
     "output_type": "display_data"
    }
   ],
   "source": [
    "mp.xlabel( 'Iterations' )\n",
    "mp.ylabel( 'Gradient norm' )\n",
    "mp.title( 'Error by iteration' )\n",
    "mp.yscale( 'log' )\n",
    "mp.plot( S[5] )"
   ]
  },
  {
   "cell_type": "markdown",
   "metadata": {},
   "source": [
    "### Using mix Fletcher-Reeves and Polak-Ribière"
   ]
  },
  {
   "cell_type": "code",
   "execution_count": 97,
   "metadata": {},
   "outputs": [
    {
     "name": "stdout",
     "output_type": "stream",
     "text": [
      "Optimal point: [1. 1.]\n",
      "Objective function value: 3.1891378422982997e-26\n",
      "Gradient at optimal point: [ 4.13002965e-14 -1.99840144e-13]\n",
      "Last descent direction: [-9.28016313e-15  1.79779153e-13]\n",
      "Iterations: 119 \n",
      "\n"
     ]
    }
   ],
   "source": [
    "iter = 1000\n",
    "m = 5\n",
    "eps = 1e-12\n",
    "c1 = 0.001\n",
    "c2 = 0.01\n",
    "alpha = 0.1\n",
    "x0 = np.array( [ 1.2, 1.2 ] )\n",
    "t = 'frpr'\n",
    "S = non_lin_conj_grad_method( f, g, x0, t, eps, iter, alpha, c1, c2, m )\n",
    "print( 'Optimal point:', S[0] )\n",
    "print( 'Objective function value:', S[1] )\n",
    "print( 'Gradient at optimal point:', S[2] )\n",
    "print( 'Last descent direction:', S[3] )\n",
    "print( 'Iterations:', S[4], '\\n' )"
   ]
  },
  {
   "cell_type": "code",
   "execution_count": 98,
   "metadata": {},
   "outputs": [
    {
     "data": {
      "text/plain": [
       "[<matplotlib.lines.Line2D at 0x7fa58d896820>]"
      ]
     },
     "execution_count": 98,
     "metadata": {},
     "output_type": "execute_result"
    },
    {
     "data": {
      "image/png": "[encoded data removed]",
      "text/plain": [
       "<Figure size 432x288 with 1 Axes>"
      ]
     },
     "metadata": {
      "needs_background": "light"
     },
     "output_type": "display_data"
    }
   ],
   "source": [
    "mp.xlabel( 'Iterations' )\n",
    "mp.ylabel( 'Gradient norm' )\n",
    "mp.title( 'Error by iteration' )\n",
    "mp.yscale( 'log' )\n",
    "mp.plot( S[5] )"
   ]
  }
 ],
 "metadata": {
  "kernelspec": {
   "display_name": "Python 3",
   "language": "python",
   "name": "python3"
  },
  "language_info": {
   "codemirror_mode": {
    "name": "ipython",
    "version": 3
   },
   "file_extension": ".py",
   "mimetype": "text/x-python",
   "name": "python",
   "nbconvert_exporter": "python",
   "pygments_lexer": "ipython3",
   "version": "3.9.1"
  }
 },
 "nbformat": 4,
 "nbformat_minor": 4
}
