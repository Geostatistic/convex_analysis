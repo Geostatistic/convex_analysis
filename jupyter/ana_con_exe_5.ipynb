{
 "cells": [
  {
   "cell_type": "markdown",
   "metadata": {},
   "source": [
    "# Line search Newton-CG method"
   ]
  },
  {
   "cell_type": "code",
   "execution_count": 2,
   "metadata": {},
   "outputs": [],
   "source": [
    "# Numerical python library, importing all\n",
    "import numpy as np\n",
    "\n",
    "# Scientific computing python library, importing linalg sections\n",
    "from scipy import la\n",
    "\n",
    "# Plotting library\n",
    "from matplotlib import pyplot as mp"
   ]
  },
  {
   "cell_type": "code",
   "execution_count": 4,
   "metadata": {},
   "outputs": [],
   "source": [
    "def line_search_newton_cg_method( f, g, iter, eps ) :\n",
    "\n",
    "    z = np.zeros( n )\n",
    "    r = g\n",
    "    d = -g\n",
    "\n",
    "    k = 0\n",
    "    ev = []\n",
    "    while k < iter and e > eps :\n",
    "        j = 0\n",
    "        while j < m :\n",
    "            xi = d.T.dot( B.dot( d ) )\n",
    "            \n",
    "            if xi <= 0 :\n",
    "                if j == 0 :\n",
    "                    p = -g\n",
    "                else :\n",
    "                    p = z\n",
    "                    \n",
    "            alpha = r.T.dot( r ) / xi\n",
    "            z = z + alpha * d\n",
    "            r = r + alpha * B.dot( d )\n",
    "            \n",
    "            if la.norm( r ) < eps :\n",
    "                p = z\n",
    "\n",
    "            beta = r.T.dot( r ) / r.T.dot( r )\n",
    "            d = -r + beta * d\n",
    "            j = j + 1\n",
    "        \n",
    "        e = la.norm( g )\n",
    "        ev = ev.append( e )\n",
    "        x = x + alpha * p\n",
    "        fx = f( x )\n",
    "        k = k + 1\n",
    "        \n",
    "        return ( x, fx, gx, k, ev )"
   ]
  },
  {
   "cell_type": "code",
   "execution_count": null,
   "metadata": {},
   "outputs": [],
   "source": []
  }
 ],
 "metadata": {
  "kernelspec": {
   "display_name": "Python 3",
   "language": "python",
   "name": "python3"
  },
  "language_info": {
   "codemirror_mode": {
    "name": "ipython",
    "version": 3
   },
   "file_extension": ".py",
   "mimetype": "text/x-python",
   "name": "python",
   "nbconvert_exporter": "python",
   "pygments_lexer": "ipython3",
   "version": "3.9.1"
  }
 },
 "nbformat": 4,
 "nbformat_minor": 4
}
